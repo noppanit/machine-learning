{
 "cells": [
  {
   "cell_type": "code",
   "execution_count": 151,
   "metadata": {
    "collapsed": false
   },
   "outputs": [],
   "source": [
    "import pandas as pd\n",
    "import numpy as np\n",
    "import re\n",
    "\n",
    "from dateutil.parser import parse"
   ]
  },
  {
   "cell_type": "code",
   "execution_count": 152,
   "metadata": {
    "collapsed": false
   },
   "outputs": [
    {
     "data": {
      "text/html": [
       "<div>\n",
       "<table border=\"1\" class=\"dataframe\">\n",
       "  <thead>\n",
       "    <tr style=\"text-align: right;\">\n",
       "      <th></th>\n",
       "      <th>longtitude</th>\n",
       "      <th>latitude</th>\n",
       "      <th>OBJECTID</th>\n",
       "      <th>SG_KEY_BOR</th>\n",
       "      <th>SG_ORDER_N</th>\n",
       "      <th>SG_SEQNO_N</th>\n",
       "      <th>SG_MUTCD_C</th>\n",
       "      <th>SR_DIST</th>\n",
       "      <th>SG_SIGN_FC</th>\n",
       "      <th>SG_ARROW_D</th>\n",
       "      <th>x</th>\n",
       "      <th>y</th>\n",
       "      <th>SIGNDESC1</th>\n",
       "    </tr>\n",
       "  </thead>\n",
       "  <tbody>\n",
       "    <tr>\n",
       "      <th>0</th>\n",
       "      <td>-73.922335</td>\n",
       "      <td>40.836256</td>\n",
       "      <td>11919717</td>\n",
       "      <td>B</td>\n",
       "      <td>P-132428</td>\n",
       "      <td>3</td>\n",
       "      <td>SP-287B</td>\n",
       "      <td>45</td>\n",
       "      <td>NaN</td>\n",
       "      <td>NaN</td>\n",
       "      <td>1005740.86711</td>\n",
       "      <td>243957.356623</td>\n",
       "      <td>NO STANDING 10AM-6PM MON THRU FRI</td>\n",
       "    </tr>\n",
       "    <tr>\n",
       "      <th>1</th>\n",
       "      <td>-73.922335</td>\n",
       "      <td>40.836256</td>\n",
       "      <td>11919718</td>\n",
       "      <td>B</td>\n",
       "      <td>P-132428</td>\n",
       "      <td>4</td>\n",
       "      <td>SP-672G</td>\n",
       "      <td>45</td>\n",
       "      <td>NaN</td>\n",
       "      <td>NaN</td>\n",
       "      <td>1005740.86711</td>\n",
       "      <td>243957.356623</td>\n",
       "      <td>EXCEPT</td>\n",
       "    </tr>\n",
       "    <tr>\n",
       "      <th>2</th>\n",
       "      <td>-73.922335</td>\n",
       "      <td>40.836256</td>\n",
       "      <td>11919719</td>\n",
       "      <td>B</td>\n",
       "      <td>P-132428</td>\n",
       "      <td>5</td>\n",
       "      <td>SP-579G</td>\n",
       "      <td>45</td>\n",
       "      <td>NaN</td>\n",
       "      <td>NaN</td>\n",
       "      <td>1005740.86711</td>\n",
       "      <td>243957.356623</td>\n",
       "      <td>AMBULETTE</td>\n",
       "    </tr>\n",
       "    <tr>\n",
       "      <th>3</th>\n",
       "      <td>-73.922330</td>\n",
       "      <td>40.836352</td>\n",
       "      <td>11919720</td>\n",
       "      <td>B</td>\n",
       "      <td>P-132428</td>\n",
       "      <td>6</td>\n",
       "      <td>SP-287BA</td>\n",
       "      <td>80</td>\n",
       "      <td>NaN</td>\n",
       "      <td>S</td>\n",
       "      <td>1005742.32839</td>\n",
       "      <td>243992.461212</td>\n",
       "      <td>NO STANDING 10AM-6PM MON THRU FRI (SINGLE ARROW)</td>\n",
       "    </tr>\n",
       "    <tr>\n",
       "      <th>4</th>\n",
       "      <td>-73.922330</td>\n",
       "      <td>40.836352</td>\n",
       "      <td>11919721</td>\n",
       "      <td>B</td>\n",
       "      <td>P-132428</td>\n",
       "      <td>7</td>\n",
       "      <td>SP-672G</td>\n",
       "      <td>80</td>\n",
       "      <td>NaN</td>\n",
       "      <td>NaN</td>\n",
       "      <td>1005742.32839</td>\n",
       "      <td>243992.461212</td>\n",
       "      <td>EXCEPT</td>\n",
       "    </tr>\n",
       "  </tbody>\n",
       "</table>\n",
       "</div>"
      ],
      "text/plain": [
       "   longtitude   latitude  OBJECTID SG_KEY_BOR SG_ORDER_N  SG_SEQNO_N  \\\n",
       "0  -73.922335  40.836256  11919717          B   P-132428           3   \n",
       "1  -73.922335  40.836256  11919718          B   P-132428           4   \n",
       "2  -73.922335  40.836256  11919719          B   P-132428           5   \n",
       "3  -73.922330  40.836352  11919720          B   P-132428           6   \n",
       "4  -73.922330  40.836352  11919721          B   P-132428           7   \n",
       "\n",
       "  SG_MUTCD_C  SR_DIST SG_SIGN_FC SG_ARROW_D              x              y  \\\n",
       "0    SP-287B       45        NaN        NaN  1005740.86711  243957.356623   \n",
       "1    SP-672G       45        NaN        NaN  1005740.86711  243957.356623   \n",
       "2    SP-579G       45        NaN        NaN  1005740.86711  243957.356623   \n",
       "3   SP-287BA       80        NaN          S  1005742.32839  243992.461212   \n",
       "4    SP-672G       80        NaN        NaN  1005742.32839  243992.461212   \n",
       "\n",
       "                                          SIGNDESC1  \n",
       "0                 NO STANDING 10AM-6PM MON THRU FRI  \n",
       "1                                            EXCEPT  \n",
       "2                                         AMBULETTE  \n",
       "3  NO STANDING 10AM-6PM MON THRU FRI (SINGLE ARROW)  \n",
       "4                                            EXCEPT  "
      ]
     },
     "execution_count": 152,
     "metadata": {},
     "output_type": "execute_result"
    }
   ],
   "source": [
    "data = pd.read_csv('Signs.csv')\n",
    "data.head()"
   ]
  },
  {
   "cell_type": "code",
   "execution_count": 153,
   "metadata": {
    "collapsed": false
   },
   "outputs": [
    {
     "data": {
      "text/plain": [
       "0                   NO STANDING 10AM-6PM MON THRU FRI\n",
       "1                                              EXCEPT\n",
       "2                                           AMBULETTE\n",
       "3    NO STANDING 10AM-6PM MON THRU FRI (SINGLE ARROW)\n",
       "4                                              EXCEPT\n",
       "Name: SIGNDESC1, dtype: object"
      ]
     },
     "execution_count": 153,
     "metadata": {},
     "output_type": "execute_result"
    }
   ],
   "source": [
    "data['SIGNDESC1'].head()"
   ]
  },
  {
   "cell_type": "code",
   "execution_count": 154,
   "metadata": {
    "collapsed": false
   },
   "outputs": [],
   "source": [
    "# https://regex101.com/r/fC0lI5/10\n",
    "p = re.compile(r'(NOON|MIDNIGHT.*|[01]?[0-9]+:?[0-9]*(?:[AP]MM?)?)\\s*(?:-|TO|\\s)\\s*(NOON|MIDNIGHT|[01]?[0-9]+:?[0-9]*(?:[AP]MM?)?)')\n",
    "\n",
    "def extract_time(desc, group=1):\n",
    "    m = p.search(desc)\n",
    "    if m:\n",
    "        time = m.group(group)\n",
    "        if time == 'MIDNIGHT':\n",
    "            return '12AM'\n",
    "        elif time == 'MIDNIGHT TO':\n",
    "            return '12AM'\n",
    "        elif time == 'NOON':\n",
    "            return '12PM'\n",
    "        elif 'MM' in time:\n",
    "            match_amm_or_pmm = re.compile(r'([0-9])*?([AP]MM?)')\n",
    "            matched_time = match_amm_or_pmm.search(time)\n",
    "            if matched_time:\n",
    "                meridiem = 'AM' if matched_time.group(2) == 'AMM' else 'PM'\n",
    "                oclock = matched_time.group(1)\n",
    "                return '{0}{1}'.format(oclock, meridiem)\n",
    "                \n",
    "        return m.group(group)\n",
    "    return np.nan\n",
    "\n",
    "def from_time(signdesc):\n",
    "    f_time = extract_time(signdesc, group=1)\n",
    "    if f_time and f_time is not np.nan:\n",
    "        return parse(f_time).strftime('%I:%M%p')\n",
    "    return np.nan\n",
    "\n",
    "def to_time(signdesc):\n",
    "    t_time = extract_time(signdesc, group=2)\n",
    "    if t_time and t_time is not np.nan:\n",
    "        try:\n",
    "            return parse(t_time).strftime('%I:%M%p')\n",
    "        except:\n",
    "            print(signdesc)\n",
    "            print(t_time)\n",
    "            return np.nan\n",
    "    return np.nan"
   ]
  },
  {
   "cell_type": "markdown",
   "metadata": {},
   "source": [
    "# Special Cases\n",
    "assert extract_time('1 HR MUNI-METER PARKING 10AM-7PM MON THRU FRI 8AM-7PM SATURDAY W/ SINGLE ARROW') == ''\n",
    "NO PARKING (SANITATION BROOM SYMBOL) 11:30AM TO 1 PM FRIW/ SINGLE ARROW\n",
    "## check if 2 timings is the maximum amount"
   ]
  },
  {
   "cell_type": "code",
   "execution_count": 155,
   "metadata": {
    "collapsed": false
   },
   "outputs": [],
   "source": [
    "row = 'NO PARKING (SANITATION BROOM SYMBOL) 7AM-7:30AM EXCEPT SUNDAY'\n",
    "assert from_time(row) == '07:00AM'\n",
    "assert to_time(row) == '07:30AM'\n",
    "\n",
    "special_case1 = 'NO PARKING (SANITATION BROOM SYMBOL) 11:30AM TO 1PM THURS'\n",
    "assert from_time(special_case1) == '11:30AM'\n",
    "assert to_time(special_case1) == '01:00PM'\n",
    "\n",
    "special_case2 = 'NO PARKING (SANITATION BROOM SYMBOL) MOON & STARS (SYMBOLS) TUESDAY FRIDAY MIDNIGHT-3AM'\n",
    "assert from_time(special_case2) == '12:00AM'\n",
    "assert to_time(special_case2) == '03:00AM'\n",
    "\n",
    "special_case3 = 'TRUCK (SYMBOL) TRUCK LOADING ONLY MONDAY-FRIDAY NOON-2PM'\n",
    "assert from_time(special_case3) == '12:00PM'\n",
    "assert to_time(special_case3) == '02:00PM'\n",
    "\n",
    "special_case4 = 'NIGHT REGULATION (MOON & STARS SYMBOLS) NO PARKING (SANITATION BROOM SYMBOL) MIDNIGHT TO-3AM WED & SAT'\n",
    "assert from_time(special_case4) == '12:00AM'\n",
    "assert to_time(special_case4) == '03:00AM'\n",
    "\n",
    "special_case5 = 'NO PARKING (SANITATION BROOM SYMBOL)8AM 11AM TUES & THURS'\n",
    "assert from_time(special_case5) == '08:00AM'\n",
    "assert to_time(special_case5) == '11:00AM'\n",
    "\n",
    "special_case6 = 'NO PARKING (SANITATION BROOM SYMBOL) MONDAY THURSDAY 7AMM-7:30AM'\n",
    "assert from_time(special_case6) == '07:00AM'\n",
    "assert to_time(special_case6) == '07:30AM'"
   ]
  },
  {
   "cell_type": "code",
   "execution_count": 156,
   "metadata": {
    "collapsed": true
   },
   "outputs": [],
   "source": [
    "def filter_from_time(row):\n",
    "    if not pd.isnull(row['SIGNDESC1']):\n",
    "        return from_time(row['SIGNDESC1'])\n",
    "    return np.nan"
   ]
  },
  {
   "cell_type": "code",
   "execution_count": 157,
   "metadata": {
    "collapsed": true
   },
   "outputs": [],
   "source": [
    "def filter_to_time(row):\n",
    "    if not pd.isnull(row['SIGNDESC1']):\n",
    "        return to_time(row['SIGNDESC1'])\n",
    "    return np.nan"
   ]
  },
  {
   "cell_type": "code",
   "execution_count": 158,
   "metadata": {
    "collapsed": false
   },
   "outputs": [],
   "source": [
    "data['FROM_TIME'] = data.apply(filter_from_time, axis=1)"
   ]
  },
  {
   "cell_type": "code",
   "execution_count": 159,
   "metadata": {
    "collapsed": false
   },
   "outputs": [
    {
     "name": "stdout",
     "output_type": "stream",
     "text": [
      "HYLAN BLVD (9 0'CLOCK ARROW)\n",
      "0\n"
     ]
    }
   ],
   "source": [
    "data['TO_TIME'] = data.apply(filter_to_time, axis=1)"
   ]
  },
  {
   "cell_type": "code",
   "execution_count": 160,
   "metadata": {
    "collapsed": false
   },
   "outputs": [
    {
     "data": {
      "text/html": [
       "<div>\n",
       "<table border=\"1\" class=\"dataframe\">\n",
       "  <thead>\n",
       "    <tr style=\"text-align: right;\">\n",
       "      <th></th>\n",
       "      <th>SIGNDESC1</th>\n",
       "      <th>FROM_TIME</th>\n",
       "      <th>TO_TIME</th>\n",
       "    </tr>\n",
       "  </thead>\n",
       "  <tbody>\n",
       "    <tr>\n",
       "      <th>0</th>\n",
       "      <td>NO STANDING 10AM-6PM MON THRU FRI</td>\n",
       "      <td>10:00AM</td>\n",
       "      <td>06:00PM</td>\n",
       "    </tr>\n",
       "    <tr>\n",
       "      <th>1</th>\n",
       "      <td>EXCEPT</td>\n",
       "      <td>NaN</td>\n",
       "      <td>NaN</td>\n",
       "    </tr>\n",
       "    <tr>\n",
       "      <th>2</th>\n",
       "      <td>AMBULETTE</td>\n",
       "      <td>NaN</td>\n",
       "      <td>NaN</td>\n",
       "    </tr>\n",
       "    <tr>\n",
       "      <th>3</th>\n",
       "      <td>NO STANDING 10AM-6PM MON THRU FRI (SINGLE ARROW)</td>\n",
       "      <td>10:00AM</td>\n",
       "      <td>06:00PM</td>\n",
       "    </tr>\n",
       "    <tr>\n",
       "      <th>4</th>\n",
       "      <td>EXCEPT</td>\n",
       "      <td>NaN</td>\n",
       "      <td>NaN</td>\n",
       "    </tr>\n",
       "    <tr>\n",
       "      <th>5</th>\n",
       "      <td>AMBULETTE</td>\n",
       "      <td>NaN</td>\n",
       "      <td>NaN</td>\n",
       "    </tr>\n",
       "    <tr>\n",
       "      <th>6</th>\n",
       "      <td>NO PARKING (SANITATION BROOM SYMBOL) 11:30AM T...</td>\n",
       "      <td>11:30AM</td>\n",
       "      <td>01:00PM</td>\n",
       "    </tr>\n",
       "    <tr>\n",
       "      <th>7</th>\n",
       "      <td>OTHER TIMES 1 HOUR PARKING 9AM-7PM EXCEPT SUND...</td>\n",
       "      <td>09:00AM</td>\n",
       "      <td>07:00PM</td>\n",
       "    </tr>\n",
       "    <tr>\n",
       "      <th>8</th>\n",
       "      <td>NO PARKING (SANITATION BROOM SYMBOL) 11:30AM T...</td>\n",
       "      <td>11:30AM</td>\n",
       "      <td>01:00PM</td>\n",
       "    </tr>\n",
       "    <tr>\n",
       "      <th>9</th>\n",
       "      <td>NO PARKING PASSENGER LOADING ZONE W/ SINGLE ARROW</td>\n",
       "      <td>NaN</td>\n",
       "      <td>NaN</td>\n",
       "    </tr>\n",
       "  </tbody>\n",
       "</table>\n",
       "</div>"
      ],
      "text/plain": [
       "                                           SIGNDESC1 FROM_TIME  TO_TIME\n",
       "0                  NO STANDING 10AM-6PM MON THRU FRI   10:00AM  06:00PM\n",
       "1                                             EXCEPT       NaN      NaN\n",
       "2                                          AMBULETTE       NaN      NaN\n",
       "3   NO STANDING 10AM-6PM MON THRU FRI (SINGLE ARROW)   10:00AM  06:00PM\n",
       "4                                             EXCEPT       NaN      NaN\n",
       "5                                          AMBULETTE       NaN      NaN\n",
       "6  NO PARKING (SANITATION BROOM SYMBOL) 11:30AM T...   11:30AM  01:00PM\n",
       "7  OTHER TIMES 1 HOUR PARKING 9AM-7PM EXCEPT SUND...   09:00AM  07:00PM\n",
       "8  NO PARKING (SANITATION BROOM SYMBOL) 11:30AM T...   11:30AM  01:00PM\n",
       "9  NO PARKING PASSENGER LOADING ZONE W/ SINGLE ARROW       NaN      NaN"
      ]
     },
     "execution_count": 160,
     "metadata": {},
     "output_type": "execute_result"
    }
   ],
   "source": [
    "data[['SIGNDESC1', 'FROM_TIME', 'TO_TIME']].head(10)"
   ]
  },
  {
   "cell_type": "markdown",
   "metadata": {},
   "source": [
    "# Find out if any rows has NaN\n",
    "\n",
    "Want to find out if any rows has NaN from `from_time` and `to_time` but has timing in SIGNDESC1"
   ]
  },
  {
   "cell_type": "code",
   "execution_count": 161,
   "metadata": {
    "collapsed": false
   },
   "outputs": [],
   "source": [
    "rows_with_AM_PM_but_time_NaN = data[(data['FROM_TIME'].isnull() | data['FROM_TIME'].isnull()) & (data['SIGNDESC1'].str.contains('[0-9]+(?:[AP]M)'))]"
   ]
  },
  {
   "cell_type": "code",
   "execution_count": 162,
   "metadata": {
    "collapsed": false
   },
   "outputs": [
    {
     "data": {
      "text/plain": [
       "6"
      ]
     },
     "execution_count": 162,
     "metadata": {},
     "output_type": "execute_result"
    }
   ],
   "source": [
    "len(rows_with_AM_PM_but_time_NaN)"
   ]
  },
  {
   "cell_type": "code",
   "execution_count": 163,
   "metadata": {
    "collapsed": false
   },
   "outputs": [
    {
     "data": {
      "text/html": [
       "<div>\n",
       "<table border=\"1\" class=\"dataframe\">\n",
       "  <thead>\n",
       "    <tr style=\"text-align: right;\">\n",
       "      <th></th>\n",
       "      <th>SIGNDESC1</th>\n",
       "      <th>FROM_TIME</th>\n",
       "      <th>TO_TIME</th>\n",
       "    </tr>\n",
       "  </thead>\n",
       "  <tbody>\n",
       "    <tr>\n",
       "      <th>180670</th>\n",
       "      <td>TRUCK (SYMBOL) TRUCK LOADING ONLY MONDAY-FRIDA...</td>\n",
       "      <td>NaN</td>\n",
       "      <td>NaN</td>\n",
       "    </tr>\n",
       "    <tr>\n",
       "      <th>212089</th>\n",
       "      <td>NO PARKING (SANITATION BROOM SYMBOL) TUESDAY F...</td>\n",
       "      <td>NaN</td>\n",
       "      <td>NaN</td>\n",
       "    </tr>\n",
       "    <tr>\n",
       "      <th>258938</th>\n",
       "      <td>NO PARKING (SANITATION BROOM SYMBOL) TUESDAY F...</td>\n",
       "      <td>NaN</td>\n",
       "      <td>NaN</td>\n",
       "    </tr>\n",
       "    <tr>\n",
       "      <th>258942</th>\n",
       "      <td>NO PARKING (SANITATION BROOM SYMBOL) TUESDAY F...</td>\n",
       "      <td>NaN</td>\n",
       "      <td>NaN</td>\n",
       "    </tr>\n",
       "    <tr>\n",
       "      <th>258944</th>\n",
       "      <td>NO PARKING (SANITATION BROOM SYMBOL) TUESDAY F...</td>\n",
       "      <td>NaN</td>\n",
       "      <td>NaN</td>\n",
       "    </tr>\n",
       "    <tr>\n",
       "      <th>283262</th>\n",
       "      <td>6 HMP 7:30AM=7PM EXCEPT SUNDAY</td>\n",
       "      <td>NaN</td>\n",
       "      <td>NaN</td>\n",
       "    </tr>\n",
       "  </tbody>\n",
       "</table>\n",
       "</div>"
      ],
      "text/plain": [
       "                                                SIGNDESC1 FROM_TIME TO_TIME\n",
       "180670  TRUCK (SYMBOL) TRUCK LOADING ONLY MONDAY-FRIDA...       NaN     NaN\n",
       "212089  NO PARKING (SANITATION BROOM SYMBOL) TUESDAY F...       NaN     NaN\n",
       "258938  NO PARKING (SANITATION BROOM SYMBOL) TUESDAY F...       NaN     NaN\n",
       "258942  NO PARKING (SANITATION BROOM SYMBOL) TUESDAY F...       NaN     NaN\n",
       "258944  NO PARKING (SANITATION BROOM SYMBOL) TUESDAY F...       NaN     NaN\n",
       "283262                     6 HMP 7:30AM=7PM EXCEPT SUNDAY       NaN     NaN"
      ]
     },
     "execution_count": 163,
     "metadata": {},
     "output_type": "execute_result"
    }
   ],
   "source": [
    "rows_with_AM_PM_but_time_NaN[['SIGNDESC1', 'FROM_TIME', 'TO_TIME']]"
   ]
  },
  {
   "cell_type": "code",
   "execution_count": 164,
   "metadata": {
    "collapsed": false
   },
   "outputs": [
    {
     "data": {
      "text/plain": [
       "'TRUCK (SYMBOL) TRUCK LOADING ONLY MONDAY-FRIDAY 9AM-=4PM'"
      ]
     },
     "execution_count": 164,
     "metadata": {},
     "output_type": "execute_result"
    }
   ],
   "source": [
    "data.iloc[180670, data.columns.get_loc('SIGNDESC1')]"
   ]
  },
  {
   "cell_type": "code",
   "execution_count": 165,
   "metadata": {
    "collapsed": false
   },
   "outputs": [],
   "source": [
    "data.iloc[180670, data.columns.get_loc('FROM_TIME')] = '9AM'\n",
    "data.iloc[180670, data.columns.get_loc('TO_TIME')] = '4AM'"
   ]
  },
  {
   "cell_type": "code",
   "execution_count": 166,
   "metadata": {
    "collapsed": false
   },
   "outputs": [
    {
     "data": {
      "text/plain": [
       "'NO PARKING (SANITATION BROOM SYMBOL) TUESDAY FRIDAY 10A M-11:30AM'"
      ]
     },
     "execution_count": 166,
     "metadata": {},
     "output_type": "execute_result"
    }
   ],
   "source": [
    "data.iloc[212089, data.columns.get_loc('SIGNDESC1')]"
   ]
  },
  {
   "cell_type": "code",
   "execution_count": 167,
   "metadata": {
    "collapsed": false
   },
   "outputs": [],
   "source": [
    "data.iloc[212089, data.columns.get_loc('FROM_TIME')] = '10AM'\n",
    "data.iloc[212089, data.columns.get_loc('TO_TIME')] = '11:30AM'"
   ]
  },
  {
   "cell_type": "code",
   "execution_count": 168,
   "metadata": {
    "collapsed": false
   },
   "outputs": [
    {
     "data": {
      "text/plain": [
       "'NO PARKING (SANITATION BROOM SYMBOL) TUESDAY FRIDAY 10A M-11:30AM'"
      ]
     },
     "execution_count": 168,
     "metadata": {},
     "output_type": "execute_result"
    }
   ],
   "source": [
    "data.iloc[258938, data.columns.get_loc('SIGNDESC1')]"
   ]
  },
  {
   "cell_type": "code",
   "execution_count": 169,
   "metadata": {
    "collapsed": false
   },
   "outputs": [],
   "source": [
    "data.iloc[258938, data.columns.get_loc('FROM_TIME')] = '10AM'\n",
    "data.iloc[258938, data.columns.get_loc('TO_TIME')] = '11:30AM'"
   ]
  },
  {
   "cell_type": "code",
   "execution_count": 170,
   "metadata": {
    "collapsed": false
   },
   "outputs": [
    {
     "data": {
      "text/plain": [
       "'NO PARKING (SANITATION BROOM SYMBOL) TUESDAY FRIDAY 10A M-11:30AM'"
      ]
     },
     "execution_count": 170,
     "metadata": {},
     "output_type": "execute_result"
    }
   ],
   "source": [
    "data.iloc[258942, data.columns.get_loc('SIGNDESC1')]"
   ]
  },
  {
   "cell_type": "code",
   "execution_count": 171,
   "metadata": {
    "collapsed": true
   },
   "outputs": [],
   "source": [
    "data.iloc[258942, data.columns.get_loc('FROM_TIME')] = '10AM'\n",
    "data.iloc[258942, data.columns.get_loc('TO_TIME')] = '11:30AM'"
   ]
  },
  {
   "cell_type": "code",
   "execution_count": 172,
   "metadata": {
    "collapsed": false
   },
   "outputs": [
    {
     "data": {
      "text/plain": [
       "'NO PARKING (SANITATION BROOM SYMBOL) TUESDAY FRIDAY 10A M-11:30AM'"
      ]
     },
     "execution_count": 172,
     "metadata": {},
     "output_type": "execute_result"
    }
   ],
   "source": [
    "data.iloc[258944, data.columns.get_loc('SIGNDESC1')]"
   ]
  },
  {
   "cell_type": "code",
   "execution_count": 173,
   "metadata": {
    "collapsed": true
   },
   "outputs": [],
   "source": [
    "data.iloc[258944, data.columns.get_loc('FROM_TIME')] = '10AM'\n",
    "data.iloc[258944, data.columns.get_loc('TO_TIME')] = '11:30AM'"
   ]
  },
  {
   "cell_type": "code",
   "execution_count": 174,
   "metadata": {
    "collapsed": false
   },
   "outputs": [
    {
     "data": {
      "text/plain": [
       "'6 HMP 7:30AM=7PM EXCEPT SUNDAY'"
      ]
     },
     "execution_count": 174,
     "metadata": {},
     "output_type": "execute_result"
    }
   ],
   "source": [
    "data.iloc[283262, data.columns.get_loc('SIGNDESC1')]"
   ]
  },
  {
   "cell_type": "code",
   "execution_count": 175,
   "metadata": {
    "collapsed": true
   },
   "outputs": [],
   "source": [
    "data.iloc[283262, data.columns.get_loc('FROM_TIME')] = '6AM'\n",
    "data.iloc[283262, data.columns.get_loc('TO_TIME')] = '7:30AM'"
   ]
  },
  {
   "cell_type": "markdown",
   "metadata": {},
   "source": [
    "Confirm that every row has `from_time` and `to_time`"
   ]
  },
  {
   "cell_type": "code",
   "execution_count": 176,
   "metadata": {
    "collapsed": false
   },
   "outputs": [
    {
     "data": {
      "text/plain": [
       "0"
      ]
     },
     "execution_count": 176,
     "metadata": {},
     "output_type": "execute_result"
    }
   ],
   "source": [
    "rows_with_AM_PM_but_time_NaN = data[(data['FROM_TIME'].isnull() | data['FROM_TIME'].isnull()) & (data['SIGNDESC1'].str.contains('[0-9]+(?:[AP]M)'))]\n",
    "len(rows_with_AM_PM_but_time_NaN)"
   ]
  },
  {
   "cell_type": "code",
   "execution_count": 177,
   "metadata": {
    "collapsed": false
   },
   "outputs": [
    {
     "data": {
      "text/html": [
       "<div>\n",
       "<table border=\"1\" class=\"dataframe\">\n",
       "  <thead>\n",
       "    <tr style=\"text-align: right;\">\n",
       "      <th></th>\n",
       "      <th>SIGNDESC1</th>\n",
       "      <th>FROM_TIME</th>\n",
       "      <th>TO_TIME</th>\n",
       "    </tr>\n",
       "  </thead>\n",
       "  <tbody>\n",
       "    <tr>\n",
       "      <th>0</th>\n",
       "      <td>NO STANDING 10AM-6PM MON THRU FRI</td>\n",
       "      <td>10:00AM</td>\n",
       "      <td>06:00PM</td>\n",
       "    </tr>\n",
       "    <tr>\n",
       "      <th>1</th>\n",
       "      <td>EXCEPT</td>\n",
       "      <td>NaN</td>\n",
       "      <td>NaN</td>\n",
       "    </tr>\n",
       "    <tr>\n",
       "      <th>2</th>\n",
       "      <td>AMBULETTE</td>\n",
       "      <td>NaN</td>\n",
       "      <td>NaN</td>\n",
       "    </tr>\n",
       "    <tr>\n",
       "      <th>3</th>\n",
       "      <td>NO STANDING 10AM-6PM MON THRU FRI (SINGLE ARROW)</td>\n",
       "      <td>10:00AM</td>\n",
       "      <td>06:00PM</td>\n",
       "    </tr>\n",
       "    <tr>\n",
       "      <th>4</th>\n",
       "      <td>EXCEPT</td>\n",
       "      <td>NaN</td>\n",
       "      <td>NaN</td>\n",
       "    </tr>\n",
       "    <tr>\n",
       "      <th>5</th>\n",
       "      <td>AMBULETTE</td>\n",
       "      <td>NaN</td>\n",
       "      <td>NaN</td>\n",
       "    </tr>\n",
       "    <tr>\n",
       "      <th>6</th>\n",
       "      <td>NO PARKING (SANITATION BROOM SYMBOL) 11:30AM T...</td>\n",
       "      <td>11:30AM</td>\n",
       "      <td>01:00PM</td>\n",
       "    </tr>\n",
       "    <tr>\n",
       "      <th>7</th>\n",
       "      <td>OTHER TIMES 1 HOUR PARKING 9AM-7PM EXCEPT SUND...</td>\n",
       "      <td>09:00AM</td>\n",
       "      <td>07:00PM</td>\n",
       "    </tr>\n",
       "    <tr>\n",
       "      <th>8</th>\n",
       "      <td>NO PARKING (SANITATION BROOM SYMBOL) 11:30AM T...</td>\n",
       "      <td>11:30AM</td>\n",
       "      <td>01:00PM</td>\n",
       "    </tr>\n",
       "    <tr>\n",
       "      <th>9</th>\n",
       "      <td>NO PARKING PASSENGER LOADING ZONE W/ SINGLE ARROW</td>\n",
       "      <td>NaN</td>\n",
       "      <td>NaN</td>\n",
       "    </tr>\n",
       "    <tr>\n",
       "      <th>10</th>\n",
       "      <td>NO PARKING PASSENGER LOADING ZONE W/ SINGLE ARROW</td>\n",
       "      <td>NaN</td>\n",
       "      <td>NaN</td>\n",
       "    </tr>\n",
       "    <tr>\n",
       "      <th>11</th>\n",
       "      <td>NO PARKING (SANITATION BROOM SYMBOL) 11:30AM T...</td>\n",
       "      <td>11:30AM</td>\n",
       "      <td>01:00PM</td>\n",
       "    </tr>\n",
       "    <tr>\n",
       "      <th>12</th>\n",
       "      <td>NO PARKING (SANITATION BROOM SYMBOL) 11:30AM T...</td>\n",
       "      <td>11:30AM</td>\n",
       "      <td>01:00PM</td>\n",
       "    </tr>\n",
       "    <tr>\n",
       "      <th>13</th>\n",
       "      <td>NO PARKING ANYTIME (SINGLE ARROW)</td>\n",
       "      <td>NaN</td>\n",
       "      <td>NaN</td>\n",
       "    </tr>\n",
       "    <tr>\n",
       "      <th>14</th>\n",
       "      <td>NO PARKING ANYTIME (SINGLE ARROW)</td>\n",
       "      <td>NaN</td>\n",
       "      <td>NaN</td>\n",
       "    </tr>\n",
       "    <tr>\n",
       "      <th>15</th>\n",
       "      <td>NO PARKING (SANITATION BROOM SYMBOL) 11:30AM T...</td>\n",
       "      <td>11:30AM</td>\n",
       "      <td>01:00PM</td>\n",
       "    </tr>\n",
       "    <tr>\n",
       "      <th>16</th>\n",
       "      <td>NO PARKING (SANITATION BROOM SYMBOL) 11:30AM T...</td>\n",
       "      <td>11:30AM</td>\n",
       "      <td>01:00PM</td>\n",
       "    </tr>\n",
       "    <tr>\n",
       "      <th>17</th>\n",
       "      <td>NO PARKING (SANITATION BROOM SYMBOL) 11:30AM T...</td>\n",
       "      <td>11:30AM</td>\n",
       "      <td>01:00PM</td>\n",
       "    </tr>\n",
       "    <tr>\n",
       "      <th>18</th>\n",
       "      <td>BUS LAYOVER AREA NO STANDING ANYTIME  (NO ENGI...</td>\n",
       "      <td>NaN</td>\n",
       "      <td>NaN</td>\n",
       "    </tr>\n",
       "    <tr>\n",
       "      <th>19</th>\n",
       "      <td>BUS LAYOVER AREA NO STANDING ANYTIME  (NO ENGI...</td>\n",
       "      <td>NaN</td>\n",
       "      <td>NaN</td>\n",
       "    </tr>\n",
       "    <tr>\n",
       "      <th>20</th>\n",
       "      <td>NO PARKING (SANITATION BROOM SYMBOL) 7:30-8AM ...</td>\n",
       "      <td>07:30AM</td>\n",
       "      <td>08:00AM</td>\n",
       "    </tr>\n",
       "    <tr>\n",
       "      <th>21</th>\n",
       "      <td>1 HOUR PARKING 8AM-7PM EXCEPT SUNDAY</td>\n",
       "      <td>08:00AM</td>\n",
       "      <td>07:00PM</td>\n",
       "    </tr>\n",
       "    <tr>\n",
       "      <th>22</th>\n",
       "      <td>NO PARKING (SANITATION BROOM SYMBOL) 7:30-8AM ...</td>\n",
       "      <td>07:30AM</td>\n",
       "      <td>08:00AM</td>\n",
       "    </tr>\n",
       "    <tr>\n",
       "      <th>23</th>\n",
       "      <td>1 HOUR PARKING 8AM-7PM EXCEPT SUNDAY</td>\n",
       "      <td>08:00AM</td>\n",
       "      <td>07:00PM</td>\n",
       "    </tr>\n",
       "    <tr>\n",
       "      <th>24</th>\n",
       "      <td>NO PARKING (SANITATION BROOM SYMBOL) 7:30-8AM ...</td>\n",
       "      <td>07:30AM</td>\n",
       "      <td>08:00AM</td>\n",
       "    </tr>\n",
       "    <tr>\n",
       "      <th>25</th>\n",
       "      <td>1 HOUR PARKING 8AM-7PM EXCEPT SUNDAY</td>\n",
       "      <td>08:00AM</td>\n",
       "      <td>07:00PM</td>\n",
       "    </tr>\n",
       "    <tr>\n",
       "      <th>26</th>\n",
       "      <td>NO PARKING (SANITATION BROOM SYMBOL) 8-8:30AM ...</td>\n",
       "      <td>12:00AM</td>\n",
       "      <td>08:30AM</td>\n",
       "    </tr>\n",
       "    <tr>\n",
       "      <th>27</th>\n",
       "      <td>NO PARKING (SANITATION BROOM SYMBOL) 8-8:30AM ...</td>\n",
       "      <td>12:00AM</td>\n",
       "      <td>08:30AM</td>\n",
       "    </tr>\n",
       "    <tr>\n",
       "      <th>28</th>\n",
       "      <td>1 HOUR PARKING 8:30AM-7PM EXCEPT SUNDAY W/SING...</td>\n",
       "      <td>08:30AM</td>\n",
       "      <td>07:00PM</td>\n",
       "    </tr>\n",
       "    <tr>\n",
       "      <th>29</th>\n",
       "      <td>NO PARKING (SANITATION BROOM SYMBOL) 8-8:30AM ...</td>\n",
       "      <td>12:00AM</td>\n",
       "      <td>08:30AM</td>\n",
       "    </tr>\n",
       "    <tr>\n",
       "      <th>...</th>\n",
       "      <td>...</td>\n",
       "      <td>...</td>\n",
       "      <td>...</td>\n",
       "    </tr>\n",
       "    <tr>\n",
       "      <th>384892</th>\n",
       "      <td>4 HR MUNI-METER PARKING 9AM-7PM EXCEPT SUNDAY ...</td>\n",
       "      <td>09:00AM</td>\n",
       "      <td>07:00PM</td>\n",
       "    </tr>\n",
       "    <tr>\n",
       "      <th>384893</th>\n",
       "      <td>NO STANDING ANYTIME (SINGLE ARROW)</td>\n",
       "      <td>NaN</td>\n",
       "      <td>NaN</td>\n",
       "    </tr>\n",
       "    <tr>\n",
       "      <th>384894</th>\n",
       "      <td>4 HR MUNI-METER PARKING 9AM-7PM EXCEPT SUNDAY ...</td>\n",
       "      <td>09:00AM</td>\n",
       "      <td>07:00PM</td>\n",
       "    </tr>\n",
       "    <tr>\n",
       "      <th>384895</th>\n",
       "      <td>NO STANDING ANYTIME</td>\n",
       "      <td>NaN</td>\n",
       "      <td>NaN</td>\n",
       "    </tr>\n",
       "    <tr>\n",
       "      <th>384896</th>\n",
       "      <td>BUS STOP SIGN (BUS &amp; HANDICAP SYMBOLS) NO STAN...</td>\n",
       "      <td>NaN</td>\n",
       "      <td>NaN</td>\n",
       "    </tr>\n",
       "    <tr>\n",
       "      <th>384897</th>\n",
       "      <td>M 18 LTD 8 STREET/4 AVENUE  (TYPICAL BUS ROUTE...</td>\n",
       "      <td>NaN</td>\n",
       "      <td>NaN</td>\n",
       "    </tr>\n",
       "    <tr>\n",
       "      <th>384898</th>\n",
       "      <td>14 STREET &amp; UNION SQ (BOTTOM LOCATION PANEL)</td>\n",
       "      <td>NaN</td>\n",
       "      <td>NaN</td>\n",
       "    </tr>\n",
       "    <tr>\n",
       "      <th>384899</th>\n",
       "      <td>2 HR MUNI-METER PARKING 8AM-7PM EXCEPT SUNDAY</td>\n",
       "      <td>08:00AM</td>\n",
       "      <td>07:00PM</td>\n",
       "    </tr>\n",
       "    <tr>\n",
       "      <th>384900</th>\n",
       "      <td>2 HR MUNI-METER PARKING 8AM-7PM EXCEPT SUNDAY</td>\n",
       "      <td>08:00AM</td>\n",
       "      <td>07:00PM</td>\n",
       "    </tr>\n",
       "    <tr>\n",
       "      <th>384901</th>\n",
       "      <td>NO STANDING ANYTIME (SINGLE ARROW)</td>\n",
       "      <td>NaN</td>\n",
       "      <td>NaN</td>\n",
       "    </tr>\n",
       "    <tr>\n",
       "      <th>384902</th>\n",
       "      <td>2 HR MUNI-METER PARKING 8AM-7PM EXCEPT SUNDAY ...</td>\n",
       "      <td>08:00AM</td>\n",
       "      <td>07:00PM</td>\n",
       "    </tr>\n",
       "    <tr>\n",
       "      <th>384903</th>\n",
       "      <td>NO STANDING MONDAY-FRIDAY 7AM-9AM</td>\n",
       "      <td>07:00AM</td>\n",
       "      <td>09:00AM</td>\n",
       "    </tr>\n",
       "    <tr>\n",
       "      <th>384904</th>\n",
       "      <td>2 HOUR PARKING 9AM-7PM EXCEPT SUNDAY</td>\n",
       "      <td>09:00AM</td>\n",
       "      <td>07:00PM</td>\n",
       "    </tr>\n",
       "    <tr>\n",
       "      <th>384905</th>\n",
       "      <td>NO STANDING ANYTIME</td>\n",
       "      <td>NaN</td>\n",
       "      <td>NaN</td>\n",
       "    </tr>\n",
       "    <tr>\n",
       "      <th>384906</th>\n",
       "      <td>NO STANDING MONDAY-FRIDAY 7AM-9AM</td>\n",
       "      <td>07:00AM</td>\n",
       "      <td>09:00AM</td>\n",
       "    </tr>\n",
       "    <tr>\n",
       "      <th>384907</th>\n",
       "      <td>2 HOUR PARKING 9AM-7PM EXCEPT SUNDAY</td>\n",
       "      <td>09:00AM</td>\n",
       "      <td>07:00PM</td>\n",
       "    </tr>\n",
       "    <tr>\n",
       "      <th>384908</th>\n",
       "      <td>2 HOUR PARKING 9AM-5PM MON THRU SAT W/SINGLE A...</td>\n",
       "      <td>09:00AM</td>\n",
       "      <td>05:00PM</td>\n",
       "    </tr>\n",
       "    <tr>\n",
       "      <th>384909</th>\n",
       "      <td>2 HOUR PARKING 9AM-5PM MON THRU SAT</td>\n",
       "      <td>09:00AM</td>\n",
       "      <td>05:00PM</td>\n",
       "    </tr>\n",
       "    <tr>\n",
       "      <th>384910</th>\n",
       "      <td>NO STANDING 4PM-7PM MON THRU FRI</td>\n",
       "      <td>04:00PM</td>\n",
       "      <td>07:00PM</td>\n",
       "    </tr>\n",
       "    <tr>\n",
       "      <th>384911</th>\n",
       "      <td>1 HOUR PARKING 8AM-4PM MON THRU FRI 8AM-7PM SA...</td>\n",
       "      <td>08:00AM</td>\n",
       "      <td>04:00PM</td>\n",
       "    </tr>\n",
       "    <tr>\n",
       "      <th>384912</th>\n",
       "      <td>NO STANDING 4PM-7PM MON THRU FRI</td>\n",
       "      <td>04:00PM</td>\n",
       "      <td>07:00PM</td>\n",
       "    </tr>\n",
       "    <tr>\n",
       "      <th>384913</th>\n",
       "      <td>1 HOUR PARKING 8AM-4PM MON THRU FRI 8AM-7PM SA...</td>\n",
       "      <td>08:00AM</td>\n",
       "      <td>04:00PM</td>\n",
       "    </tr>\n",
       "    <tr>\n",
       "      <th>384914</th>\n",
       "      <td>6 HOUR PARKING 8AM-8PM EXCEPT SUNDAY</td>\n",
       "      <td>08:00AM</td>\n",
       "      <td>08:00PM</td>\n",
       "    </tr>\n",
       "    <tr>\n",
       "      <th>384915</th>\n",
       "      <td>PAY AT MUNI-METER W/ SINGLE ARROW NYC PARKING ...</td>\n",
       "      <td>NaN</td>\n",
       "      <td>NaN</td>\n",
       "    </tr>\n",
       "    <tr>\n",
       "      <th>384916</th>\n",
       "      <td>6 HOUR PARKING 8AM-8PM EXCEPT SUNDAY</td>\n",
       "      <td>08:00AM</td>\n",
       "      <td>08:00PM</td>\n",
       "    </tr>\n",
       "    <tr>\n",
       "      <th>384917</th>\n",
       "      <td>PAY AT MUNI-METER W/ SINGLE ARROW NYC PARKING ...</td>\n",
       "      <td>NaN</td>\n",
       "      <td>NaN</td>\n",
       "    </tr>\n",
       "    <tr>\n",
       "      <th>384918</th>\n",
       "      <td>6 HOUR PARKING 8AM-8PM EXCEPT SUNDAY</td>\n",
       "      <td>08:00AM</td>\n",
       "      <td>08:00PM</td>\n",
       "    </tr>\n",
       "    <tr>\n",
       "      <th>384919</th>\n",
       "      <td>PAY AT MUNI-METER W/ SINGLE ARROW NYC PARKING ...</td>\n",
       "      <td>NaN</td>\n",
       "      <td>NaN</td>\n",
       "    </tr>\n",
       "    <tr>\n",
       "      <th>384920</th>\n",
       "      <td>6 HOUR PARKING 8AM-8PM EXCEPT SUNDAY W/SINGLE ...</td>\n",
       "      <td>08:00AM</td>\n",
       "      <td>08:00PM</td>\n",
       "    </tr>\n",
       "    <tr>\n",
       "      <th>384921</th>\n",
       "      <td>PAY AT MUNI-METER W/ SINGLE ARROW NYC PARKING ...</td>\n",
       "      <td>NaN</td>\n",
       "      <td>NaN</td>\n",
       "    </tr>\n",
       "  </tbody>\n",
       "</table>\n",
       "<p>384922 rows × 3 columns</p>\n",
       "</div>"
      ],
      "text/plain": [
       "                                                SIGNDESC1 FROM_TIME  TO_TIME\n",
       "0                       NO STANDING 10AM-6PM MON THRU FRI   10:00AM  06:00PM\n",
       "1                                                  EXCEPT       NaN      NaN\n",
       "2                                               AMBULETTE       NaN      NaN\n",
       "3        NO STANDING 10AM-6PM MON THRU FRI (SINGLE ARROW)   10:00AM  06:00PM\n",
       "4                                                  EXCEPT       NaN      NaN\n",
       "5                                               AMBULETTE       NaN      NaN\n",
       "6       NO PARKING (SANITATION BROOM SYMBOL) 11:30AM T...   11:30AM  01:00PM\n",
       "7       OTHER TIMES 1 HOUR PARKING 9AM-7PM EXCEPT SUND...   09:00AM  07:00PM\n",
       "8       NO PARKING (SANITATION BROOM SYMBOL) 11:30AM T...   11:30AM  01:00PM\n",
       "9       NO PARKING PASSENGER LOADING ZONE W/ SINGLE ARROW       NaN      NaN\n",
       "10      NO PARKING PASSENGER LOADING ZONE W/ SINGLE ARROW       NaN      NaN\n",
       "11      NO PARKING (SANITATION BROOM SYMBOL) 11:30AM T...   11:30AM  01:00PM\n",
       "12      NO PARKING (SANITATION BROOM SYMBOL) 11:30AM T...   11:30AM  01:00PM\n",
       "13                      NO PARKING ANYTIME (SINGLE ARROW)       NaN      NaN\n",
       "14                      NO PARKING ANYTIME (SINGLE ARROW)       NaN      NaN\n",
       "15      NO PARKING (SANITATION BROOM SYMBOL) 11:30AM T...   11:30AM  01:00PM\n",
       "16      NO PARKING (SANITATION BROOM SYMBOL) 11:30AM T...   11:30AM  01:00PM\n",
       "17      NO PARKING (SANITATION BROOM SYMBOL) 11:30AM T...   11:30AM  01:00PM\n",
       "18      BUS LAYOVER AREA NO STANDING ANYTIME  (NO ENGI...       NaN      NaN\n",
       "19      BUS LAYOVER AREA NO STANDING ANYTIME  (NO ENGI...       NaN      NaN\n",
       "20      NO PARKING (SANITATION BROOM SYMBOL) 7:30-8AM ...   07:30AM  08:00AM\n",
       "21                   1 HOUR PARKING 8AM-7PM EXCEPT SUNDAY   08:00AM  07:00PM\n",
       "22      NO PARKING (SANITATION BROOM SYMBOL) 7:30-8AM ...   07:30AM  08:00AM\n",
       "23                   1 HOUR PARKING 8AM-7PM EXCEPT SUNDAY   08:00AM  07:00PM\n",
       "24      NO PARKING (SANITATION BROOM SYMBOL) 7:30-8AM ...   07:30AM  08:00AM\n",
       "25                   1 HOUR PARKING 8AM-7PM EXCEPT SUNDAY   08:00AM  07:00PM\n",
       "26      NO PARKING (SANITATION BROOM SYMBOL) 8-8:30AM ...   12:00AM  08:30AM\n",
       "27      NO PARKING (SANITATION BROOM SYMBOL) 8-8:30AM ...   12:00AM  08:30AM\n",
       "28      1 HOUR PARKING 8:30AM-7PM EXCEPT SUNDAY W/SING...   08:30AM  07:00PM\n",
       "29      NO PARKING (SANITATION BROOM SYMBOL) 8-8:30AM ...   12:00AM  08:30AM\n",
       "...                                                   ...       ...      ...\n",
       "384892  4 HR MUNI-METER PARKING 9AM-7PM EXCEPT SUNDAY ...   09:00AM  07:00PM\n",
       "384893                 NO STANDING ANYTIME (SINGLE ARROW)       NaN      NaN\n",
       "384894  4 HR MUNI-METER PARKING 9AM-7PM EXCEPT SUNDAY ...   09:00AM  07:00PM\n",
       "384895                                NO STANDING ANYTIME       NaN      NaN\n",
       "384896  BUS STOP SIGN (BUS & HANDICAP SYMBOLS) NO STAN...       NaN      NaN\n",
       "384897  M 18 LTD 8 STREET/4 AVENUE  (TYPICAL BUS ROUTE...       NaN      NaN\n",
       "384898       14 STREET & UNION SQ (BOTTOM LOCATION PANEL)       NaN      NaN\n",
       "384899      2 HR MUNI-METER PARKING 8AM-7PM EXCEPT SUNDAY   08:00AM  07:00PM\n",
       "384900      2 HR MUNI-METER PARKING 8AM-7PM EXCEPT SUNDAY   08:00AM  07:00PM\n",
       "384901                 NO STANDING ANYTIME (SINGLE ARROW)       NaN      NaN\n",
       "384902  2 HR MUNI-METER PARKING 8AM-7PM EXCEPT SUNDAY ...   08:00AM  07:00PM\n",
       "384903                  NO STANDING MONDAY-FRIDAY 7AM-9AM   07:00AM  09:00AM\n",
       "384904               2 HOUR PARKING 9AM-7PM EXCEPT SUNDAY   09:00AM  07:00PM\n",
       "384905                                NO STANDING ANYTIME       NaN      NaN\n",
       "384906                  NO STANDING MONDAY-FRIDAY 7AM-9AM   07:00AM  09:00AM\n",
       "384907               2 HOUR PARKING 9AM-7PM EXCEPT SUNDAY   09:00AM  07:00PM\n",
       "384908  2 HOUR PARKING 9AM-5PM MON THRU SAT W/SINGLE A...   09:00AM  05:00PM\n",
       "384909                2 HOUR PARKING 9AM-5PM MON THRU SAT   09:00AM  05:00PM\n",
       "384910                   NO STANDING 4PM-7PM MON THRU FRI   04:00PM  07:00PM\n",
       "384911  1 HOUR PARKING 8AM-4PM MON THRU FRI 8AM-7PM SA...   08:00AM  04:00PM\n",
       "384912                   NO STANDING 4PM-7PM MON THRU FRI   04:00PM  07:00PM\n",
       "384913  1 HOUR PARKING 8AM-4PM MON THRU FRI 8AM-7PM SA...   08:00AM  04:00PM\n",
       "384914               6 HOUR PARKING 8AM-8PM EXCEPT SUNDAY   08:00AM  08:00PM\n",
       "384915  PAY AT MUNI-METER W/ SINGLE ARROW NYC PARKING ...       NaN      NaN\n",
       "384916               6 HOUR PARKING 8AM-8PM EXCEPT SUNDAY   08:00AM  08:00PM\n",
       "384917  PAY AT MUNI-METER W/ SINGLE ARROW NYC PARKING ...       NaN      NaN\n",
       "384918               6 HOUR PARKING 8AM-8PM EXCEPT SUNDAY   08:00AM  08:00PM\n",
       "384919  PAY AT MUNI-METER W/ SINGLE ARROW NYC PARKING ...       NaN      NaN\n",
       "384920  6 HOUR PARKING 8AM-8PM EXCEPT SUNDAY W/SINGLE ...   08:00AM  08:00PM\n",
       "384921  PAY AT MUNI-METER W/ SINGLE ARROW NYC PARKING ...       NaN      NaN\n",
       "\n",
       "[384922 rows x 3 columns]"
      ]
     },
     "execution_count": 177,
     "metadata": {},
     "output_type": "execute_result"
    }
   ],
   "source": [
    "data[['SIGNDESC1', 'FROM_TIME', 'TO_TIME']]"
   ]
  },
  {
   "cell_type": "markdown",
   "metadata": {},
   "source": [
    "# Day of the week"
   ]
  },
  {
   "cell_type": "code",
   "execution_count": 178,
   "metadata": {
    "collapsed": false
   },
   "outputs": [
    {
     "data": {
      "text/plain": [
       "0                     NO STANDING 10AM-6PM MON THRU FRI\n",
       "1                                                EXCEPT\n",
       "2                                             AMBULETTE\n",
       "3      NO STANDING 10AM-6PM MON THRU FRI (SINGLE ARROW)\n",
       "4                                                EXCEPT\n",
       "5                                             AMBULETTE\n",
       "6     NO PARKING (SANITATION BROOM SYMBOL) 11:30AM T...\n",
       "7     OTHER TIMES 1 HOUR PARKING 9AM-7PM EXCEPT SUND...\n",
       "8     NO PARKING (SANITATION BROOM SYMBOL) 11:30AM T...\n",
       "9     NO PARKING PASSENGER LOADING ZONE W/ SINGLE ARROW\n",
       "10    NO PARKING PASSENGER LOADING ZONE W/ SINGLE ARROW\n",
       "11    NO PARKING (SANITATION BROOM SYMBOL) 11:30AM T...\n",
       "12    NO PARKING (SANITATION BROOM SYMBOL) 11:30AM T...\n",
       "13                    NO PARKING ANYTIME (SINGLE ARROW)\n",
       "14                    NO PARKING ANYTIME (SINGLE ARROW)\n",
       "15    NO PARKING (SANITATION BROOM SYMBOL) 11:30AM T...\n",
       "16    NO PARKING (SANITATION BROOM SYMBOL) 11:30AM T...\n",
       "17    NO PARKING (SANITATION BROOM SYMBOL) 11:30AM T...\n",
       "18    BUS LAYOVER AREA NO STANDING ANYTIME  (NO ENGI...\n",
       "19    BUS LAYOVER AREA NO STANDING ANYTIME  (NO ENGI...\n",
       "Name: SIGNDESC1, dtype: object"
      ]
     },
     "execution_count": 178,
     "metadata": {},
     "output_type": "execute_result"
    }
   ],
   "source": [
    "data['SIGNDESC1'].head(20)"
   ]
  },
  {
   "cell_type": "code",
   "execution_count": 179,
   "metadata": {
    "collapsed": true
   },
   "outputs": [],
   "source": [
    "#https://regex101.com/r/fO4zL8/3\n",
    "regex_to_extract_days_idv_days = r'\\b((?:(?:MON|MONDAY|TUES|TUESDAY|WED|WEDNESDAY|THURS|THURSDAY|FRI|FRIDAY|SAT|SATURDAY|SUN|SUNDAY)\\s*)+)(?=\\s|$)'\n",
    "regex_to_extract_days_with_range = r'(MON|TUES|WED|THURS|FRI|SAT|SUN)\\s(THRU|\\&)\\s(MON|TUES|WED|THURS|FRI|SAT|SUN)'\n",
    "\n",
    "def extract_day(signdesc):\n",
    "    days = ['MON', 'TUES', 'WED', 'THURS', 'FRI', 'SAT', 'SUN']\n",
    "    p_idv_days = re.compile(regex_to_extract_days_idv_days)\n",
    "    m_idv_days = p_idv_days.search(signdesc)\n",
    "    \n",
    "    p_range_days = re.compile(regex_to_extract_days_with_range)\n",
    "    m_range_days = p_range_days.search(signdesc)\n",
    "    \n",
    "    if 'EXCEPT SUN' in signdesc:\n",
    "        return ', '.join(days[:6])\n",
    "    \n",
    "    if 'INCLUDING SUNDAY' in signdesc:\n",
    "        return ', '.join(days)\n",
    "    \n",
    "    if 'FRIW/' in signdesc:\n",
    "        return ', '.join(['FRI'])\n",
    "    \n",
    "    if ('THRU' in signdesc) and m_range_days:\n",
    "        from_day = m_range_days.group(1)\n",
    "        to_day = m_range_days.group(3)\n",
    "\n",
    "        idx_frm_d = days.index(from_day)\n",
    "        idx_to_d = days.index(to_day)\n",
    "        return ', '.join([days[n] for n in range(idx_frm_d, idx_to_d + 1)])\n",
    "    \n",
    "    if ('&' in signdesc) and m_range_days:\n",
    "        from_day = m_range_days.group(1)\n",
    "        to_day = m_range_days.group(3)\n",
    "        \n",
    "        return ', '.join([from_day, to_day])\n",
    "    \n",
    "    if m_idv_days:\n",
    "        days = m_idv_days.group(1)\n",
    "        d = []\n",
    "        for day in days.split(' '):\n",
    "            if len(day) > 3:\n",
    "                if day in ['MONDAY', 'WEDNESDAY', 'FRIDAY', 'SATURDAY', 'SUNDAY']:\n",
    "                    d.append(day[:3])\n",
    "                if day in ['TUESDAY']:\n",
    "                    d.append(day[:4])\n",
    "                if day in ['THURSDAY']:\n",
    "                    d.append(day[:5])\n",
    "            else:\n",
    "                d.append(day)\n",
    "                    \n",
    "        return ', '.join(d)\n",
    "            \n",
    "    return np.nan"
   ]
  },
  {
   "cell_type": "code",
   "execution_count": 180,
   "metadata": {
    "collapsed": true
   },
   "outputs": [],
   "source": [
    "def filter_days(row):\n",
    "    if not pd.isnull(row['SIGNDESC1']):\n",
    "        return extract_day(row['SIGNDESC1'])\n",
    "    return np.nan"
   ]
  },
  {
   "cell_type": "code",
   "execution_count": 181,
   "metadata": {
    "collapsed": false
   },
   "outputs": [],
   "source": [
    "assert extract_day('NO STANDING 11AM-7AM MON SAT') == \"MON, SAT\"\n",
    "assert extract_day('NO STANDING MON FRI 7AM-9AM') == \"MON, FRI\"\n",
    "assert extract_day('2 HOUR PARKING 9AM-5PM MON THRU SAT') == \"MON, TUES, WED, THURS, FRI, SAT\"\n",
    "assert extract_day('1 HOUR PARKING 8AM-7PM EXCEPT SUNDAY') == \"MON, TUES, WED, THURS, FRI, SAT\"\n",
    "assert extract_day('NO PARKING 10PM-8AM INCLUDING SUNDAY') == \"MON, TUES, WED, THURS, FRI, SAT, SUN\"\n",
    "assert extract_day('NO PARKING (SANITATION BROOM SYMBOL) MONDAY THURSDAY 9:30AM-11AM') == \"MON, THURS\"\n",
    "assert extract_day('NO PARKING (SANITATION BROOM SYMBOL) 11:30AM TO 1 PM FRIW/ SINGLE ARROW') == \"FRI\"\n",
    "assert extract_day('NO PARKING (SANITATION BROOM SYMBOL) 8-9:30AM TUES & FRI') == \"TUES, FRI\"\n",
    "assert extract_day('NO PARKING (SANITATION BROOM SYMBOL) TUESDAY FRIDAY 11AM-12:30PM') == \"TUES, FRI\""
   ]
  },
  {
   "cell_type": "code",
   "execution_count": 182,
   "metadata": {
    "collapsed": true
   },
   "outputs": [],
   "source": [
    "data['DAYS'] = data.apply(filter_days, axis=1)"
   ]
  },
  {
   "cell_type": "code",
   "execution_count": 183,
   "metadata": {
    "collapsed": false
   },
   "outputs": [],
   "source": [
    "rows_with_days_but_DAYS_NAN = data[data['DAYS'].isnull() & data['SIGNDESC1'].str.contains('\\sMON|\\sTUES|\\sWED|\\sTHURS|\\sFRI|\\sSAT|\\sSUN')]"
   ]
  },
  {
   "cell_type": "code",
   "execution_count": 184,
   "metadata": {
    "collapsed": false
   },
   "outputs": [
    {
     "data": {
      "text/html": [
       "<div>\n",
       "<table border=\"1\" class=\"dataframe\">\n",
       "  <thead>\n",
       "    <tr style=\"text-align: right;\">\n",
       "      <th></th>\n",
       "      <th>SIGNDESC1</th>\n",
       "      <th>DAYS</th>\n",
       "    </tr>\n",
       "  </thead>\n",
       "  <tbody>\n",
       "    <tr>\n",
       "      <th>136362</th>\n",
       "      <td>NO PARKING (SANITATION BROOM SYMBOL) 11:30AM T...</td>\n",
       "      <td>NaN</td>\n",
       "    </tr>\n",
       "    <tr>\n",
       "      <th>136363</th>\n",
       "      <td>NO PARKING (SANITATION BROOM SYMBOL) 11:30AM T...</td>\n",
       "      <td>NaN</td>\n",
       "    </tr>\n",
       "    <tr>\n",
       "      <th>136364</th>\n",
       "      <td>NO PARKING (SANITATION BROOM SYMBOL) 11:30AM T...</td>\n",
       "      <td>NaN</td>\n",
       "    </tr>\n",
       "    <tr>\n",
       "      <th>136365</th>\n",
       "      <td>NO PARKING (SANITATION BROOM SYMBOL) 11:30AM T...</td>\n",
       "      <td>NaN</td>\n",
       "    </tr>\n",
       "    <tr>\n",
       "      <th>136366</th>\n",
       "      <td>NO PARKING (SANITATION BROOM SYMBOL) 11:30AM T...</td>\n",
       "      <td>NaN</td>\n",
       "    </tr>\n",
       "    <tr>\n",
       "      <th>136367</th>\n",
       "      <td>NO PARKING (SANITATION BROOM SYMBOL) 11:30AM T...</td>\n",
       "      <td>NaN</td>\n",
       "    </tr>\n",
       "    <tr>\n",
       "      <th>136368</th>\n",
       "      <td>NO PARKING (SANITATION BROOM SYMBOL) 11:30AM T...</td>\n",
       "      <td>NaN</td>\n",
       "    </tr>\n",
       "    <tr>\n",
       "      <th>136369</th>\n",
       "      <td>NO PARKING (SANITATION BROOM SYMBOL) 11:30AM T...</td>\n",
       "      <td>NaN</td>\n",
       "    </tr>\n",
       "    <tr>\n",
       "      <th>258535</th>\n",
       "      <td>WARNING THERE ARE NO TAXI DISPATCHERS AT THIS ...</td>\n",
       "      <td>NaN</td>\n",
       "    </tr>\n",
       "    <tr>\n",
       "      <th>258537</th>\n",
       "      <td>WARNING THERE ARE NO TAXI DISPATCHERS AT THIS ...</td>\n",
       "      <td>NaN</td>\n",
       "    </tr>\n",
       "    <tr>\n",
       "      <th>258538</th>\n",
       "      <td>WARNING THERE ARE NO TAXI DISPATCHERS AT THIS ...</td>\n",
       "      <td>NaN</td>\n",
       "    </tr>\n",
       "    <tr>\n",
       "      <th>258539</th>\n",
       "      <td>WARNING THERE ARE NO TAXI DISPATCHERS AT THIS ...</td>\n",
       "      <td>NaN</td>\n",
       "    </tr>\n",
       "    <tr>\n",
       "      <th>258541</th>\n",
       "      <td>WARNING THERE ARE NO TAXI DISPATCHERS AT THIS ...</td>\n",
       "      <td>NaN</td>\n",
       "    </tr>\n",
       "    <tr>\n",
       "      <th>308838</th>\n",
       "      <td>NO PARKING (SANITATION BROOM SYMBOL) 11:30AM T...</td>\n",
       "      <td>NaN</td>\n",
       "    </tr>\n",
       "    <tr>\n",
       "      <th>308839</th>\n",
       "      <td>NO PARKING (SANITATION BROOM SYMBOL) 11:30AM T...</td>\n",
       "      <td>NaN</td>\n",
       "    </tr>\n",
       "    <tr>\n",
       "      <th>308840</th>\n",
       "      <td>NO PARKING (SANITATION BROOM SYMBOL) 11:30AM T...</td>\n",
       "      <td>NaN</td>\n",
       "    </tr>\n",
       "    <tr>\n",
       "      <th>308841</th>\n",
       "      <td>NO PARKING (SANITATION BROOM SYMBOL) 11:30AM T...</td>\n",
       "      <td>NaN</td>\n",
       "    </tr>\n",
       "  </tbody>\n",
       "</table>\n",
       "</div>"
      ],
      "text/plain": [
       "                                                SIGNDESC1 DAYS\n",
       "136362  NO PARKING (SANITATION BROOM SYMBOL) 11:30AM T...  NaN\n",
       "136363  NO PARKING (SANITATION BROOM SYMBOL) 11:30AM T...  NaN\n",
       "136364  NO PARKING (SANITATION BROOM SYMBOL) 11:30AM T...  NaN\n",
       "136365  NO PARKING (SANITATION BROOM SYMBOL) 11:30AM T...  NaN\n",
       "136366  NO PARKING (SANITATION BROOM SYMBOL) 11:30AM T...  NaN\n",
       "136367  NO PARKING (SANITATION BROOM SYMBOL) 11:30AM T...  NaN\n",
       "136368  NO PARKING (SANITATION BROOM SYMBOL) 11:30AM T...  NaN\n",
       "136369  NO PARKING (SANITATION BROOM SYMBOL) 11:30AM T...  NaN\n",
       "258535  WARNING THERE ARE NO TAXI DISPATCHERS AT THIS ...  NaN\n",
       "258537  WARNING THERE ARE NO TAXI DISPATCHERS AT THIS ...  NaN\n",
       "258538  WARNING THERE ARE NO TAXI DISPATCHERS AT THIS ...  NaN\n",
       "258539  WARNING THERE ARE NO TAXI DISPATCHERS AT THIS ...  NaN\n",
       "258541  WARNING THERE ARE NO TAXI DISPATCHERS AT THIS ...  NaN\n",
       "308838  NO PARKING (SANITATION BROOM SYMBOL) 11:30AM T...  NaN\n",
       "308839  NO PARKING (SANITATION BROOM SYMBOL) 11:30AM T...  NaN\n",
       "308840  NO PARKING (SANITATION BROOM SYMBOL) 11:30AM T...  NaN\n",
       "308841  NO PARKING (SANITATION BROOM SYMBOL) 11:30AM T...  NaN"
      ]
     },
     "execution_count": 184,
     "metadata": {},
     "output_type": "execute_result"
    }
   ],
   "source": [
    "rows_with_days_but_DAYS_NAN[['SIGNDESC1', 'DAYS']]"
   ]
  },
  {
   "cell_type": "code",
   "execution_count": 185,
   "metadata": {
    "collapsed": false
   },
   "outputs": [
    {
     "data": {
      "text/plain": [
       "'NO PARKING (SANITATION BROOM SYMBOL) 11:30AM TO 1PM MON-'"
      ]
     },
     "execution_count": 185,
     "metadata": {},
     "output_type": "execute_result"
    }
   ],
   "source": [
    "data.iloc[308838, data.columns.get_loc('SIGNDESC1')]"
   ]
  },
  {
   "cell_type": "code",
   "execution_count": 186,
   "metadata": {
    "collapsed": false
   },
   "outputs": [
    {
     "data": {
      "text/html": [
       "<div>\n",
       "<table border=\"1\" class=\"dataframe\">\n",
       "  <thead>\n",
       "    <tr style=\"text-align: right;\">\n",
       "      <th></th>\n",
       "      <th>longtitude</th>\n",
       "      <th>latitude</th>\n",
       "      <th>OBJECTID</th>\n",
       "      <th>SG_KEY_BOR</th>\n",
       "      <th>SG_ORDER_N</th>\n",
       "      <th>SG_SEQNO_N</th>\n",
       "      <th>SG_MUTCD_C</th>\n",
       "      <th>SR_DIST</th>\n",
       "      <th>SG_SIGN_FC</th>\n",
       "      <th>SG_ARROW_D</th>\n",
       "      <th>x</th>\n",
       "      <th>y</th>\n",
       "      <th>SIGNDESC1</th>\n",
       "      <th>FROM_TIME</th>\n",
       "      <th>TO_TIME</th>\n",
       "      <th>DAYS</th>\n",
       "    </tr>\n",
       "  </thead>\n",
       "  <tbody>\n",
       "    <tr>\n",
       "      <th>0</th>\n",
       "      <td>-73.922335</td>\n",
       "      <td>40.836256</td>\n",
       "      <td>11919717</td>\n",
       "      <td>B</td>\n",
       "      <td>P-132428</td>\n",
       "      <td>3</td>\n",
       "      <td>SP-287B</td>\n",
       "      <td>45</td>\n",
       "      <td>NaN</td>\n",
       "      <td>NaN</td>\n",
       "      <td>1005740.86711</td>\n",
       "      <td>243957.356623</td>\n",
       "      <td>NO STANDING 10AM-6PM MON THRU FRI</td>\n",
       "      <td>10:00AM</td>\n",
       "      <td>06:00PM</td>\n",
       "      <td>MON, TUES, WED, THURS, FRI</td>\n",
       "    </tr>\n",
       "    <tr>\n",
       "      <th>1</th>\n",
       "      <td>-73.922335</td>\n",
       "      <td>40.836256</td>\n",
       "      <td>11919718</td>\n",
       "      <td>B</td>\n",
       "      <td>P-132428</td>\n",
       "      <td>4</td>\n",
       "      <td>SP-672G</td>\n",
       "      <td>45</td>\n",
       "      <td>NaN</td>\n",
       "      <td>NaN</td>\n",
       "      <td>1005740.86711</td>\n",
       "      <td>243957.356623</td>\n",
       "      <td>EXCEPT</td>\n",
       "      <td>NaN</td>\n",
       "      <td>NaN</td>\n",
       "      <td>NaN</td>\n",
       "    </tr>\n",
       "    <tr>\n",
       "      <th>2</th>\n",
       "      <td>-73.922335</td>\n",
       "      <td>40.836256</td>\n",
       "      <td>11919719</td>\n",
       "      <td>B</td>\n",
       "      <td>P-132428</td>\n",
       "      <td>5</td>\n",
       "      <td>SP-579G</td>\n",
       "      <td>45</td>\n",
       "      <td>NaN</td>\n",
       "      <td>NaN</td>\n",
       "      <td>1005740.86711</td>\n",
       "      <td>243957.356623</td>\n",
       "      <td>AMBULETTE</td>\n",
       "      <td>NaN</td>\n",
       "      <td>NaN</td>\n",
       "      <td>NaN</td>\n",
       "    </tr>\n",
       "    <tr>\n",
       "      <th>3</th>\n",
       "      <td>-73.922330</td>\n",
       "      <td>40.836352</td>\n",
       "      <td>11919720</td>\n",
       "      <td>B</td>\n",
       "      <td>P-132428</td>\n",
       "      <td>6</td>\n",
       "      <td>SP-287BA</td>\n",
       "      <td>80</td>\n",
       "      <td>NaN</td>\n",
       "      <td>S</td>\n",
       "      <td>1005742.32839</td>\n",
       "      <td>243992.461212</td>\n",
       "      <td>NO STANDING 10AM-6PM MON THRU FRI (SINGLE ARROW)</td>\n",
       "      <td>10:00AM</td>\n",
       "      <td>06:00PM</td>\n",
       "      <td>MON, TUES, WED, THURS, FRI</td>\n",
       "    </tr>\n",
       "    <tr>\n",
       "      <th>4</th>\n",
       "      <td>-73.922330</td>\n",
       "      <td>40.836352</td>\n",
       "      <td>11919721</td>\n",
       "      <td>B</td>\n",
       "      <td>P-132428</td>\n",
       "      <td>7</td>\n",
       "      <td>SP-672G</td>\n",
       "      <td>80</td>\n",
       "      <td>NaN</td>\n",
       "      <td>NaN</td>\n",
       "      <td>1005742.32839</td>\n",
       "      <td>243992.461212</td>\n",
       "      <td>EXCEPT</td>\n",
       "      <td>NaN</td>\n",
       "      <td>NaN</td>\n",
       "      <td>NaN</td>\n",
       "    </tr>\n",
       "  </tbody>\n",
       "</table>\n",
       "</div>"
      ],
      "text/plain": [
       "   longtitude   latitude  OBJECTID SG_KEY_BOR SG_ORDER_N  SG_SEQNO_N  \\\n",
       "0  -73.922335  40.836256  11919717          B   P-132428           3   \n",
       "1  -73.922335  40.836256  11919718          B   P-132428           4   \n",
       "2  -73.922335  40.836256  11919719          B   P-132428           5   \n",
       "3  -73.922330  40.836352  11919720          B   P-132428           6   \n",
       "4  -73.922330  40.836352  11919721          B   P-132428           7   \n",
       "\n",
       "  SG_MUTCD_C  SR_DIST SG_SIGN_FC SG_ARROW_D              x              y  \\\n",
       "0    SP-287B       45        NaN        NaN  1005740.86711  243957.356623   \n",
       "1    SP-672G       45        NaN        NaN  1005740.86711  243957.356623   \n",
       "2    SP-579G       45        NaN        NaN  1005740.86711  243957.356623   \n",
       "3   SP-287BA       80        NaN          S  1005742.32839  243992.461212   \n",
       "4    SP-672G       80        NaN        NaN  1005742.32839  243992.461212   \n",
       "\n",
       "                                          SIGNDESC1 FROM_TIME  TO_TIME  \\\n",
       "0                 NO STANDING 10AM-6PM MON THRU FRI   10:00AM  06:00PM   \n",
       "1                                            EXCEPT       NaN      NaN   \n",
       "2                                         AMBULETTE       NaN      NaN   \n",
       "3  NO STANDING 10AM-6PM MON THRU FRI (SINGLE ARROW)   10:00AM  06:00PM   \n",
       "4                                            EXCEPT       NaN      NaN   \n",
       "\n",
       "                         DAYS  \n",
       "0  MON, TUES, WED, THURS, FRI  \n",
       "1                         NaN  \n",
       "2                         NaN  \n",
       "3  MON, TUES, WED, THURS, FRI  \n",
       "4                         NaN  "
      ]
     },
     "execution_count": 186,
     "metadata": {},
     "output_type": "execute_result"
    }
   ],
   "source": [
    "data.head()"
   ]
  },
  {
   "cell_type": "markdown",
   "metadata": {},
   "source": [
    "# Save to CSV"
   ]
  },
  {
   "cell_type": "code",
   "execution_count": 187,
   "metadata": {
    "collapsed": true
   },
   "outputs": [],
   "source": [
    "data.to_csv('Processed_Signs.csv', index=False)"
   ]
  },
  {
   "cell_type": "code",
   "execution_count": null,
   "metadata": {
    "collapsed": true
   },
   "outputs": [],
   "source": []
  }
 ],
 "metadata": {
  "kernelspec": {
   "display_name": "Python 3",
   "language": "python",
   "name": "python3"
  },
  "language_info": {
   "codemirror_mode": {
    "name": "ipython",
    "version": 3
   },
   "file_extension": ".py",
   "mimetype": "text/x-python",
   "name": "python",
   "nbconvert_exporter": "python",
   "pygments_lexer": "ipython3",
   "version": "3.5.1"
  }
 },
 "nbformat": 4,
 "nbformat_minor": 0
}
