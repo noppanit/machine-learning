{
 "cells": [
  {
   "cell_type": "code",
   "execution_count": 91,
   "metadata": {
    "collapsed": false
   },
   "outputs": [],
   "source": [
    "import pandas as pd\n",
    "import numpy as np\n",
    "import re"
   ]
  },
  {
   "cell_type": "code",
   "execution_count": 92,
   "metadata": {
    "collapsed": false
   },
   "outputs": [
    {
     "data": {
      "text/html": [
       "<div>\n",
       "<table border=\"1\" class=\"dataframe\">\n",
       "  <thead>\n",
       "    <tr style=\"text-align: right;\">\n",
       "      <th></th>\n",
       "      <th>longtitude</th>\n",
       "      <th>latitude</th>\n",
       "      <th>OBJECTID</th>\n",
       "      <th>SG_KEY_BOR</th>\n",
       "      <th>SG_ORDER_N</th>\n",
       "      <th>SG_SEQNO_N</th>\n",
       "      <th>SG_MUTCD_C</th>\n",
       "      <th>SR_DIST</th>\n",
       "      <th>SG_SIGN_FC</th>\n",
       "      <th>SG_ARROW_D</th>\n",
       "      <th>x</th>\n",
       "      <th>y</th>\n",
       "      <th>SIGNDESC1</th>\n",
       "    </tr>\n",
       "  </thead>\n",
       "  <tbody>\n",
       "    <tr>\n",
       "      <th>0</th>\n",
       "      <td>-73.922335</td>\n",
       "      <td>40.836256</td>\n",
       "      <td>11919717</td>\n",
       "      <td>B</td>\n",
       "      <td>P-132428</td>\n",
       "      <td>3</td>\n",
       "      <td>SP-287B</td>\n",
       "      <td>45</td>\n",
       "      <td>NaN</td>\n",
       "      <td>NaN</td>\n",
       "      <td>1005740.86711</td>\n",
       "      <td>243957.356623</td>\n",
       "      <td>NO STANDING 10AM-6PM MON THRU FRI</td>\n",
       "    </tr>\n",
       "    <tr>\n",
       "      <th>1</th>\n",
       "      <td>-73.922335</td>\n",
       "      <td>40.836256</td>\n",
       "      <td>11919718</td>\n",
       "      <td>B</td>\n",
       "      <td>P-132428</td>\n",
       "      <td>4</td>\n",
       "      <td>SP-672G</td>\n",
       "      <td>45</td>\n",
       "      <td>NaN</td>\n",
       "      <td>NaN</td>\n",
       "      <td>1005740.86711</td>\n",
       "      <td>243957.356623</td>\n",
       "      <td>EXCEPT</td>\n",
       "    </tr>\n",
       "    <tr>\n",
       "      <th>2</th>\n",
       "      <td>-73.922335</td>\n",
       "      <td>40.836256</td>\n",
       "      <td>11919719</td>\n",
       "      <td>B</td>\n",
       "      <td>P-132428</td>\n",
       "      <td>5</td>\n",
       "      <td>SP-579G</td>\n",
       "      <td>45</td>\n",
       "      <td>NaN</td>\n",
       "      <td>NaN</td>\n",
       "      <td>1005740.86711</td>\n",
       "      <td>243957.356623</td>\n",
       "      <td>AMBULETTE</td>\n",
       "    </tr>\n",
       "    <tr>\n",
       "      <th>3</th>\n",
       "      <td>-73.922330</td>\n",
       "      <td>40.836352</td>\n",
       "      <td>11919720</td>\n",
       "      <td>B</td>\n",
       "      <td>P-132428</td>\n",
       "      <td>6</td>\n",
       "      <td>SP-287BA</td>\n",
       "      <td>80</td>\n",
       "      <td>NaN</td>\n",
       "      <td>S</td>\n",
       "      <td>1005742.32839</td>\n",
       "      <td>243992.461212</td>\n",
       "      <td>NO STANDING 10AM-6PM MON THRU FRI (SINGLE ARROW)</td>\n",
       "    </tr>\n",
       "    <tr>\n",
       "      <th>4</th>\n",
       "      <td>-73.922330</td>\n",
       "      <td>40.836352</td>\n",
       "      <td>11919721</td>\n",
       "      <td>B</td>\n",
       "      <td>P-132428</td>\n",
       "      <td>7</td>\n",
       "      <td>SP-672G</td>\n",
       "      <td>80</td>\n",
       "      <td>NaN</td>\n",
       "      <td>NaN</td>\n",
       "      <td>1005742.32839</td>\n",
       "      <td>243992.461212</td>\n",
       "      <td>EXCEPT</td>\n",
       "    </tr>\n",
       "  </tbody>\n",
       "</table>\n",
       "</div>"
      ],
      "text/plain": [
       "   longtitude   latitude  OBJECTID SG_KEY_BOR SG_ORDER_N  SG_SEQNO_N  \\\n",
       "0  -73.922335  40.836256  11919717          B   P-132428           3   \n",
       "1  -73.922335  40.836256  11919718          B   P-132428           4   \n",
       "2  -73.922335  40.836256  11919719          B   P-132428           5   \n",
       "3  -73.922330  40.836352  11919720          B   P-132428           6   \n",
       "4  -73.922330  40.836352  11919721          B   P-132428           7   \n",
       "\n",
       "  SG_MUTCD_C  SR_DIST SG_SIGN_FC SG_ARROW_D              x              y  \\\n",
       "0    SP-287B       45        NaN        NaN  1005740.86711  243957.356623   \n",
       "1    SP-672G       45        NaN        NaN  1005740.86711  243957.356623   \n",
       "2    SP-579G       45        NaN        NaN  1005740.86711  243957.356623   \n",
       "3   SP-287BA       80        NaN          S  1005742.32839  243992.461212   \n",
       "4    SP-672G       80        NaN        NaN  1005742.32839  243992.461212   \n",
       "\n",
       "                                          SIGNDESC1  \n",
       "0                 NO STANDING 10AM-6PM MON THRU FRI  \n",
       "1                                            EXCEPT  \n",
       "2                                         AMBULETTE  \n",
       "3  NO STANDING 10AM-6PM MON THRU FRI (SINGLE ARROW)  \n",
       "4                                            EXCEPT  "
      ]
     },
     "execution_count": 92,
     "metadata": {},
     "output_type": "execute_result"
    }
   ],
   "source": [
    "data = pd.read_csv('Signs.csv')\n",
    "data.head()"
   ]
  },
  {
   "cell_type": "code",
   "execution_count": 93,
   "metadata": {
    "collapsed": false
   },
   "outputs": [
    {
     "data": {
      "text/plain": [
       "0                   NO STANDING 10AM-6PM MON THRU FRI\n",
       "1                                              EXCEPT\n",
       "2                                           AMBULETTE\n",
       "3    NO STANDING 10AM-6PM MON THRU FRI (SINGLE ARROW)\n",
       "4                                              EXCEPT\n",
       "Name: SIGNDESC1, dtype: object"
      ]
     },
     "execution_count": 93,
     "metadata": {},
     "output_type": "execute_result"
    }
   ],
   "source": [
    "data['SIGNDESC1'].head()"
   ]
  },
  {
   "cell_type": "code",
   "execution_count": 318,
   "metadata": {
    "collapsed": false
   },
   "outputs": [],
   "source": [
    "# https://regex101.com/r/fC0lI5/10\n",
    "p = re.compile(r'(NOON|MIDNIGHT.*|[01]?[0-9]+:?[0-9]*(?:[AP]MM?)?)\\s*(?:-|TO|\\s)\\s*(NOON|MIDNIGHT|[01]?[0-9]+:?[0-9]*(?:[AP]MM?)?)')\n",
    "\n",
    "def extract_time(desc, group=1):\n",
    "    m = p.search(desc)\n",
    "    if m:\n",
    "        time = m.group(group)\n",
    "        if time == 'MIDNIGHT':\n",
    "            return '12AM'\n",
    "        elif time == 'MIDNIGHT TO':\n",
    "            return '12AM'\n",
    "        elif time == 'NOON':\n",
    "            return '12PM'\n",
    "        elif 'MM' in time:\n",
    "            match_amm_or_pmm = re.compile(r'([0-9])*?([AP]MM?)')\n",
    "            matched_time = match_amm_or_pmm.search(time)\n",
    "            if matched_time:\n",
    "                meridiem = 'AM' if matched_time.group(2) == 'AMM' else 'PM'\n",
    "                oclock = matched_time.group(1)\n",
    "                return '{0}{1}'.format(oclock, meridiem)\n",
    "                \n",
    "        return m.group(group)\n",
    "    return np.nan\n",
    "\n",
    "def from_time(signdesc):\n",
    "    return extract_time(signdesc, group=1)\n",
    "def to_time(signdesc):\n",
    "    return extract_time(signdesc, group=2)"
   ]
  },
  {
   "cell_type": "code",
   "execution_count": 284,
   "metadata": {
    "collapsed": false
   },
   "outputs": [],
   "source": [
    "# Special Case\n",
    "#assert extract_time('1 HR MUNI-METER PARKING 10AM-7PM MON THRU FRI 8AM-7PM SATURDAY W/ SINGLE ARROW') == ''\n",
    "row = 'NO PARKING (SANITATION BROOM SYMBOL) 7AM-7:30AM EXCEPT SUNDAY'\n",
    "assert from_time(row) == '7AM'\n",
    "assert to_time(row) == '7:30AM'\n",
    "\n",
    "special_case1 = 'NO PARKING (SANITATION BROOM SYMBOL) 11:30AM TO 1PM THURS'\n",
    "assert from_time(special_case1) == '11:30AM'\n",
    "assert to_time(special_case1) == '1PM'\n",
    "\n",
    "special_case2 = 'NO PARKING (SANITATION BROOM SYMBOL) MOON & STARS (SYMBOLS) TUESDAY FRIDAY MIDNIGHT-3AM'\n",
    "assert from_time(special_case2) == '12AM'\n",
    "assert to_time(special_case2) == '3AM'\n",
    "\n",
    "special_case3 = 'TRUCK (SYMBOL) TRUCK LOADING ONLY MONDAY-FRIDAY NOON-2PM'\n",
    "assert from_time(special_case3) == '12PM'\n",
    "assert to_time(special_case3) == '2PM'\n",
    "\n",
    "special_case4 = 'NIGHT REGULATION (MOON & STARS SYMBOLS) NO PARKING (SANITATION BROOM SYMBOL) MIDNIGHT TO-3AM WED & SAT'\n",
    "assert from_time(special_case4) == '12AM'\n",
    "assert to_time(special_case4) == '3AM'\n",
    "\n",
    "special_case5 = 'NO PARKING (SANITATION BROOM SYMBOL)8AM 11AM TUES & THURS'\n",
    "assert from_time(special_case5) == '8AM'\n",
    "assert to_time(special_case5) == '11AM'\n",
    "\n",
    "special_case6 = 'NO PARKING (SANITATION BROOM SYMBOL) MONDAY THURSDAY 7AMM-7:30AM'\n",
    "assert from_time(special_case6) == '7AM'\n",
    "assert to_time(special_case6) == '7:30AM'"
   ]
  },
  {
   "cell_type": "code",
   "execution_count": 285,
   "metadata": {
    "collapsed": true
   },
   "outputs": [],
   "source": [
    "def filter_from_time(row):\n",
    "    if not pd.isnull(row['SIGNDESC1']):\n",
    "        return from_time(row['SIGNDESC1'])\n",
    "    return np.nan"
   ]
  },
  {
   "cell_type": "code",
   "execution_count": 286,
   "metadata": {
    "collapsed": true
   },
   "outputs": [],
   "source": [
    "def filter_to_time(row):\n",
    "    if not pd.isnull(row['SIGNDESC1']):\n",
    "        return to_time(row['SIGNDESC1'])\n",
    "    return np.nan"
   ]
  },
  {
   "cell_type": "code",
   "execution_count": 288,
   "metadata": {
    "collapsed": false
   },
   "outputs": [],
   "source": [
    "data['FROM_TIME'] = data.apply(filter_from_time, axis=1)"
   ]
  },
  {
   "cell_type": "code",
   "execution_count": 289,
   "metadata": {
    "collapsed": true
   },
   "outputs": [],
   "source": [
    "data['TO_TIME'] = data.apply(filter_to_time, axis=1)"
   ]
  },
  {
   "cell_type": "code",
   "execution_count": 290,
   "metadata": {
    "collapsed": false
   },
   "outputs": [
    {
     "data": {
      "text/html": [
       "<div>\n",
       "<table border=\"1\" class=\"dataframe\">\n",
       "  <thead>\n",
       "    <tr style=\"text-align: right;\">\n",
       "      <th></th>\n",
       "      <th>SIGNDESC1</th>\n",
       "      <th>FROM_TIME</th>\n",
       "      <th>TO_TIME</th>\n",
       "    </tr>\n",
       "  </thead>\n",
       "  <tbody>\n",
       "    <tr>\n",
       "      <th>0</th>\n",
       "      <td>NO STANDING 10AM-6PM MON THRU FRI</td>\n",
       "      <td>10AM</td>\n",
       "      <td>6PM</td>\n",
       "    </tr>\n",
       "    <tr>\n",
       "      <th>1</th>\n",
       "      <td>EXCEPT</td>\n",
       "      <td>NaN</td>\n",
       "      <td>NaN</td>\n",
       "    </tr>\n",
       "    <tr>\n",
       "      <th>2</th>\n",
       "      <td>AMBULETTE</td>\n",
       "      <td>NaN</td>\n",
       "      <td>NaN</td>\n",
       "    </tr>\n",
       "    <tr>\n",
       "      <th>3</th>\n",
       "      <td>NO STANDING 10AM-6PM MON THRU FRI (SINGLE ARROW)</td>\n",
       "      <td>10AM</td>\n",
       "      <td>6PM</td>\n",
       "    </tr>\n",
       "    <tr>\n",
       "      <th>4</th>\n",
       "      <td>EXCEPT</td>\n",
       "      <td>NaN</td>\n",
       "      <td>NaN</td>\n",
       "    </tr>\n",
       "    <tr>\n",
       "      <th>5</th>\n",
       "      <td>AMBULETTE</td>\n",
       "      <td>NaN</td>\n",
       "      <td>NaN</td>\n",
       "    </tr>\n",
       "    <tr>\n",
       "      <th>6</th>\n",
       "      <td>NO PARKING (SANITATION BROOM SYMBOL) 11:30AM T...</td>\n",
       "      <td>11:30AM</td>\n",
       "      <td>1PM</td>\n",
       "    </tr>\n",
       "    <tr>\n",
       "      <th>7</th>\n",
       "      <td>OTHER TIMES 1 HOUR PARKING 9AM-7PM EXCEPT SUND...</td>\n",
       "      <td>9AM</td>\n",
       "      <td>7PM</td>\n",
       "    </tr>\n",
       "    <tr>\n",
       "      <th>8</th>\n",
       "      <td>NO PARKING (SANITATION BROOM SYMBOL) 11:30AM T...</td>\n",
       "      <td>11:30AM</td>\n",
       "      <td>1PM</td>\n",
       "    </tr>\n",
       "    <tr>\n",
       "      <th>9</th>\n",
       "      <td>NO PARKING PASSENGER LOADING ZONE W/ SINGLE ARROW</td>\n",
       "      <td>NaN</td>\n",
       "      <td>NaN</td>\n",
       "    </tr>\n",
       "  </tbody>\n",
       "</table>\n",
       "</div>"
      ],
      "text/plain": [
       "                                           SIGNDESC1 FROM_TIME TO_TIME\n",
       "0                  NO STANDING 10AM-6PM MON THRU FRI      10AM     6PM\n",
       "1                                             EXCEPT       NaN     NaN\n",
       "2                                          AMBULETTE       NaN     NaN\n",
       "3   NO STANDING 10AM-6PM MON THRU FRI (SINGLE ARROW)      10AM     6PM\n",
       "4                                             EXCEPT       NaN     NaN\n",
       "5                                          AMBULETTE       NaN     NaN\n",
       "6  NO PARKING (SANITATION BROOM SYMBOL) 11:30AM T...   11:30AM     1PM\n",
       "7  OTHER TIMES 1 HOUR PARKING 9AM-7PM EXCEPT SUND...       9AM     7PM\n",
       "8  NO PARKING (SANITATION BROOM SYMBOL) 11:30AM T...   11:30AM     1PM\n",
       "9  NO PARKING PASSENGER LOADING ZONE W/ SINGLE ARROW       NaN     NaN"
      ]
     },
     "execution_count": 290,
     "metadata": {},
     "output_type": "execute_result"
    }
   ],
   "source": [
    "data[['SIGNDESC1', 'FROM_TIME', 'TO_TIME']].head(10)"
   ]
  },
  {
   "cell_type": "markdown",
   "metadata": {},
   "source": [
    "# Find out if any rows has NaN\n",
    "\n",
    "Want to find out if any rows has NaN from `from_time` and `to_time` but has timing in SIGNDESC1"
   ]
  },
  {
   "cell_type": "code",
   "execution_count": 291,
   "metadata": {
    "collapsed": false
   },
   "outputs": [],
   "source": [
    "rows_with_AM_PM_but_time_NaN = data[(data['FROM_TIME'].isnull() | data['FROM_TIME'].isnull()) & (data['SIGNDESC1'].str.contains('[0-9]+(?:[AP]M)'))]"
   ]
  },
  {
   "cell_type": "code",
   "execution_count": 292,
   "metadata": {
    "collapsed": false
   },
   "outputs": [
    {
     "data": {
      "text/plain": [
       "6"
      ]
     },
     "execution_count": 292,
     "metadata": {},
     "output_type": "execute_result"
    }
   ],
   "source": [
    "len(rows_with_AM_PM_but_time_NaN)"
   ]
  },
  {
   "cell_type": "code",
   "execution_count": 293,
   "metadata": {
    "collapsed": false
   },
   "outputs": [
    {
     "data": {
      "text/html": [
       "<div>\n",
       "<table border=\"1\" class=\"dataframe\">\n",
       "  <thead>\n",
       "    <tr style=\"text-align: right;\">\n",
       "      <th></th>\n",
       "      <th>SIGNDESC1</th>\n",
       "      <th>FROM_TIME</th>\n",
       "      <th>TO_TIME</th>\n",
       "    </tr>\n",
       "  </thead>\n",
       "  <tbody>\n",
       "    <tr>\n",
       "      <th>180670</th>\n",
       "      <td>TRUCK (SYMBOL) TRUCK LOADING ONLY MONDAY-FRIDA...</td>\n",
       "      <td>NaN</td>\n",
       "      <td>NaN</td>\n",
       "    </tr>\n",
       "    <tr>\n",
       "      <th>212089</th>\n",
       "      <td>NO PARKING (SANITATION BROOM SYMBOL) TUESDAY F...</td>\n",
       "      <td>NaN</td>\n",
       "      <td>NaN</td>\n",
       "    </tr>\n",
       "    <tr>\n",
       "      <th>258938</th>\n",
       "      <td>NO PARKING (SANITATION BROOM SYMBOL) TUESDAY F...</td>\n",
       "      <td>NaN</td>\n",
       "      <td>NaN</td>\n",
       "    </tr>\n",
       "    <tr>\n",
       "      <th>258942</th>\n",
       "      <td>NO PARKING (SANITATION BROOM SYMBOL) TUESDAY F...</td>\n",
       "      <td>NaN</td>\n",
       "      <td>NaN</td>\n",
       "    </tr>\n",
       "    <tr>\n",
       "      <th>258944</th>\n",
       "      <td>NO PARKING (SANITATION BROOM SYMBOL) TUESDAY F...</td>\n",
       "      <td>NaN</td>\n",
       "      <td>NaN</td>\n",
       "    </tr>\n",
       "    <tr>\n",
       "      <th>283262</th>\n",
       "      <td>6 HMP 7:30AM=7PM EXCEPT SUNDAY</td>\n",
       "      <td>NaN</td>\n",
       "      <td>NaN</td>\n",
       "    </tr>\n",
       "  </tbody>\n",
       "</table>\n",
       "</div>"
      ],
      "text/plain": [
       "                                                SIGNDESC1 FROM_TIME TO_TIME\n",
       "180670  TRUCK (SYMBOL) TRUCK LOADING ONLY MONDAY-FRIDA...       NaN     NaN\n",
       "212089  NO PARKING (SANITATION BROOM SYMBOL) TUESDAY F...       NaN     NaN\n",
       "258938  NO PARKING (SANITATION BROOM SYMBOL) TUESDAY F...       NaN     NaN\n",
       "258942  NO PARKING (SANITATION BROOM SYMBOL) TUESDAY F...       NaN     NaN\n",
       "258944  NO PARKING (SANITATION BROOM SYMBOL) TUESDAY F...       NaN     NaN\n",
       "283262                     6 HMP 7:30AM=7PM EXCEPT SUNDAY       NaN     NaN"
      ]
     },
     "execution_count": 293,
     "metadata": {},
     "output_type": "execute_result"
    }
   ],
   "source": [
    "rows_with_AM_PM_but_time_NaN[['SIGNDESC1', 'FROM_TIME', 'TO_TIME']]"
   ]
  },
  {
   "cell_type": "code",
   "execution_count": 295,
   "metadata": {
    "collapsed": false
   },
   "outputs": [
    {
     "data": {
      "text/plain": [
       "'TRUCK (SYMBOL) TRUCK LOADING ONLY MONDAY-FRIDAY 9AM-=4PM'"
      ]
     },
     "execution_count": 295,
     "metadata": {},
     "output_type": "execute_result"
    }
   ],
   "source": [
    "data.iloc[180670, data.columns.get_loc('SIGNDESC1')]"
   ]
  },
  {
   "cell_type": "code",
   "execution_count": 304,
   "metadata": {
    "collapsed": false
   },
   "outputs": [],
   "source": [
    "data.iloc[180670, data.columns.get_loc('FROM_TIME')] = '9AM'\n",
    "data.iloc[180670, data.columns.get_loc('TO_TIME')] = '4AM'"
   ]
  },
  {
   "cell_type": "code",
   "execution_count": 298,
   "metadata": {
    "collapsed": false
   },
   "outputs": [
    {
     "data": {
      "text/plain": [
       "'NO PARKING (SANITATION BROOM SYMBOL) TUESDAY FRIDAY 10A M-11:30AM'"
      ]
     },
     "execution_count": 298,
     "metadata": {},
     "output_type": "execute_result"
    }
   ],
   "source": [
    "data.iloc[212089, data.columns.get_loc('SIGNDESC1')]"
   ]
  },
  {
   "cell_type": "code",
   "execution_count": 306,
   "metadata": {
    "collapsed": false
   },
   "outputs": [],
   "source": [
    "data.iloc[212089, data.columns.get_loc('FROM_TIME')] = '10AM'\n",
    "data.iloc[212089, data.columns.get_loc('TO_TIME')] = '11:30AM'"
   ]
  },
  {
   "cell_type": "code",
   "execution_count": 307,
   "metadata": {
    "collapsed": false
   },
   "outputs": [
    {
     "data": {
      "text/plain": [
       "'NO PARKING (SANITATION BROOM SYMBOL) TUESDAY FRIDAY 10A M-11:30AM'"
      ]
     },
     "execution_count": 307,
     "metadata": {},
     "output_type": "execute_result"
    }
   ],
   "source": [
    "data.iloc[258938, data.columns.get_loc('SIGNDESC1')]"
   ]
  },
  {
   "cell_type": "code",
   "execution_count": 309,
   "metadata": {
    "collapsed": false
   },
   "outputs": [],
   "source": [
    "data.iloc[258938, data.columns.get_loc('FROM_TIME')] = '10AM'\n",
    "data.iloc[258938, data.columns.get_loc('TO_TIME')] = '11:30AM'"
   ]
  },
  {
   "cell_type": "code",
   "execution_count": 310,
   "metadata": {
    "collapsed": false
   },
   "outputs": [
    {
     "data": {
      "text/plain": [
       "'NO PARKING (SANITATION BROOM SYMBOL) TUESDAY FRIDAY 10A M-11:30AM'"
      ]
     },
     "execution_count": 310,
     "metadata": {},
     "output_type": "execute_result"
    }
   ],
   "source": [
    "data.iloc[258942, data.columns.get_loc('SIGNDESC1')]"
   ]
  },
  {
   "cell_type": "code",
   "execution_count": 311,
   "metadata": {
    "collapsed": true
   },
   "outputs": [],
   "source": [
    "data.iloc[258942, data.columns.get_loc('FROM_TIME')] = '10AM'\n",
    "data.iloc[258942, data.columns.get_loc('TO_TIME')] = '11:30AM'"
   ]
  },
  {
   "cell_type": "code",
   "execution_count": 312,
   "metadata": {
    "collapsed": false
   },
   "outputs": [
    {
     "data": {
      "text/plain": [
       "'NO PARKING (SANITATION BROOM SYMBOL) TUESDAY FRIDAY 10A M-11:30AM'"
      ]
     },
     "execution_count": 312,
     "metadata": {},
     "output_type": "execute_result"
    }
   ],
   "source": [
    "data.iloc[258944, data.columns.get_loc('SIGNDESC1')]"
   ]
  },
  {
   "cell_type": "code",
   "execution_count": 313,
   "metadata": {
    "collapsed": true
   },
   "outputs": [],
   "source": [
    "data.iloc[258944, data.columns.get_loc('FROM_TIME')] = '10AM'\n",
    "data.iloc[258944, data.columns.get_loc('TO_TIME')] = '11:30AM'"
   ]
  },
  {
   "cell_type": "code",
   "execution_count": 314,
   "metadata": {
    "collapsed": false
   },
   "outputs": [
    {
     "data": {
      "text/plain": [
       "'6 HMP 7:30AM=7PM EXCEPT SUNDAY'"
      ]
     },
     "execution_count": 314,
     "metadata": {},
     "output_type": "execute_result"
    }
   ],
   "source": [
    "data.iloc[283262, data.columns.get_loc('SIGNDESC1')]"
   ]
  },
  {
   "cell_type": "code",
   "execution_count": 315,
   "metadata": {
    "collapsed": true
   },
   "outputs": [],
   "source": [
    "data.iloc[283262, data.columns.get_loc('FROM_TIME')] = '6AM'\n",
    "data.iloc[283262, data.columns.get_loc('TO_TIME')] = '7:30AM'"
   ]
  },
  {
   "cell_type": "markdown",
   "metadata": {},
   "source": [
    "Confirm that every row has `from_time` and `to_time`"
   ]
  },
  {
   "cell_type": "code",
   "execution_count": 317,
   "metadata": {
    "collapsed": false
   },
   "outputs": [
    {
     "data": {
      "text/plain": [
       "0"
      ]
     },
     "execution_count": 317,
     "metadata": {},
     "output_type": "execute_result"
    }
   ],
   "source": [
    "rows_with_AM_PM_but_time_NaN = data[(data['FROM_TIME'].isnull() | data['FROM_TIME'].isnull()) & (data['SIGNDESC1'].str.contains('[0-9]+(?:[AP]M)'))]\n",
    "len(rows_with_AM_PM_but_time_NaN)"
   ]
  },
  {
   "cell_type": "markdown",
   "metadata": {},
   "source": [
    "# Day of the week"
   ]
  },
  {
   "cell_type": "code",
   "execution_count": 320,
   "metadata": {
    "collapsed": false
   },
   "outputs": [
    {
     "data": {
      "text/plain": [
       "array(['NO STANDING 10AM-6PM MON THRU FRI', 'EXCEPT', 'AMBULETTE', ...,\n",
       "       'KEEP DRIVEWAY CLEAR',\n",
       "       'OTHER TIMES 5 HOUR PARKING 9AM-10PM EXCEPT SUNDAY (ARROW)',\n",
       "       'FERRY OPERATIONS'], dtype=object)"
      ]
     },
     "execution_count": 320,
     "metadata": {},
     "output_type": "execute_result"
    }
   ],
   "source": [
    "data['SIGNDESC1'].unique()"
   ]
  },
  {
   "cell_type": "code",
   "execution_count": null,
   "metadata": {
    "collapsed": true
   },
   "outputs": [],
   "source": []
  }
 ],
 "metadata": {
  "kernelspec": {
   "display_name": "Python 3",
   "language": "python",
   "name": "python3"
  },
  "language_info": {
   "codemirror_mode": {
    "name": "ipython",
    "version": 3
   },
   "file_extension": ".py",
   "mimetype": "text/x-python",
   "name": "python",
   "nbconvert_exporter": "python",
   "pygments_lexer": "ipython3",
   "version": "3.5.0"
  }
 },
 "nbformat": 4,
 "nbformat_minor": 0
}
