{
 "cells": [
  {
   "cell_type": "code",
   "execution_count": 21,
   "metadata": {
    "collapsed": false
   },
   "outputs": [],
   "source": [
    "from collections import Counter, defaultdict\n",
    "import numpy as np"
   ]
  },
  {
   "cell_type": "code",
   "execution_count": 22,
   "metadata": {
    "collapsed": true
   },
   "outputs": [],
   "source": [
    "users_interests = [\n",
    "    ['Hadoop', 'Big Data', 'HBase', 'Java', 'Spark', 'Storm', 'Cassandra'],\n",
    "    ['NoSQL', 'MongoDB', 'Cassandra', 'HBase', 'Postgres'],\n",
    "    ['Python', 'scikit-learn', 'scipy', 'numpy', 'statsmodels', 'pandas'],\n",
    "    ['R', 'Python', 'statistics', 'regression', 'probability'],\n",
    "    ['machine learning', 'regression', 'decision trees', 'libsvm'],\n",
    "    ['Python', 'R', 'Java', 'C++', 'Haskell', 'programming languages'],\n",
    "    ['statistics', 'probability', 'mathematics', 'theory'],\n",
    "    ['machine learning', 'scikit-learn', 'Mahout', 'neural networks'],\n",
    "    ['neural networks', 'deep learning', 'Big Data', 'artificial intelligence'],\n",
    "    ['Hadoop', 'Java', 'MapReduce', 'Big Data'],\n",
    "    ['statistics', 'R', 'statsmodels'],\n",
    "    ['C++', 'deep learning', 'artificial intelligece', 'probability'],\n",
    "    ['pandas', 'R', 'Python'],\n",
    "    ['databases', 'HBase', 'Postgres', 'MySQL', 'MongoDB'],\n",
    "    ['libsvm', 'regression', 'support vector machines']\n",
    "]"
   ]
  },
  {
   "cell_type": "code",
   "execution_count": 23,
   "metadata": {
    "collapsed": false
   },
   "outputs": [
    {
     "data": {
      "text/plain": [
       "[('R', 4),\n",
       " ('Python', 4),\n",
       " ('regression', 3),\n",
       " ('Big Data', 3),\n",
       " ('Java', 3),\n",
       " ('probability', 3),\n",
       " ('HBase', 3),\n",
       " ('statistics', 3),\n",
       " ('C++', 2),\n",
       " ('Cassandra', 2),\n",
       " ('neural networks', 2),\n",
       " ('scikit-learn', 2),\n",
       " ('Postgres', 2),\n",
       " ('deep learning', 2),\n",
       " ('MongoDB', 2),\n",
       " ('Hadoop', 2),\n",
       " ('statsmodels', 2),\n",
       " ('pandas', 2),\n",
       " ('libsvm', 2),\n",
       " ('machine learning', 2),\n",
       " ('databases', 1),\n",
       " ('MapReduce', 1),\n",
       " ('numpy', 1),\n",
       " ('MySQL', 1),\n",
       " ('mathematics', 1),\n",
       " ('Haskell', 1),\n",
       " ('programming languages', 1),\n",
       " ('theory', 1),\n",
       " ('NoSQL', 1),\n",
       " ('decision trees', 1),\n",
       " ('support vector machines', 1),\n",
       " ('Spark', 1),\n",
       " ('artificial intelligece', 1),\n",
       " ('Mahout', 1),\n",
       " ('artificial intelligence', 1),\n",
       " ('Storm', 1),\n",
       " ('scipy', 1)]"
      ]
     },
     "execution_count": 23,
     "metadata": {},
     "output_type": "execute_result"
    }
   ],
   "source": [
    "popular_interests = Counter(interest for user_interests in users_interests \n",
    "                            for interest in user_interests).most_common()\n",
    "popular_interests"
   ]
  },
  {
   "cell_type": "code",
   "execution_count": 24,
   "metadata": {
    "collapsed": true
   },
   "outputs": [],
   "source": [
    "def most_popular_new_interests(user_interests, max_results=5):\n",
    "    suggestions = [(interest, frequency) \n",
    "                   for interest, frequency in popular_interests \n",
    "                   if interest not in user_interests]\n",
    "    return suggestions[:max_results]"
   ]
  },
  {
   "cell_type": "code",
   "execution_count": 25,
   "metadata": {
    "collapsed": false
   },
   "outputs": [
    {
     "data": {
      "text/plain": [
       "[('R', 4), ('Python', 4), ('regression', 3), ('Big Data', 3), ('Java', 3)]"
      ]
     },
     "execution_count": 25,
     "metadata": {},
     "output_type": "execute_result"
    }
   ],
   "source": [
    "most_popular_new_interests(users_interests[1], 5)"
   ]
  },
  {
   "cell_type": "code",
   "execution_count": 26,
   "metadata": {
    "collapsed": true
   },
   "outputs": [],
   "source": [
    "def cosine_similiarty(v, w):\n",
    "    return np.dot(v, w) / np.math.sqrt(np.dot(v, v) * np.dot(w, w))"
   ]
  },
  {
   "cell_type": "code",
   "execution_count": 27,
   "metadata": {
    "collapsed": false
   },
   "outputs": [
    {
     "data": {
      "text/plain": [
       "['Big Data',\n",
       " 'C++',\n",
       " 'Cassandra',\n",
       " 'HBase',\n",
       " 'Hadoop',\n",
       " 'Haskell',\n",
       " 'Java',\n",
       " 'Mahout',\n",
       " 'MapReduce',\n",
       " 'MongoDB',\n",
       " 'MySQL',\n",
       " 'NoSQL',\n",
       " 'Postgres',\n",
       " 'Python',\n",
       " 'R',\n",
       " 'Spark',\n",
       " 'Storm',\n",
       " 'artificial intelligece',\n",
       " 'artificial intelligence',\n",
       " 'databases',\n",
       " 'decision trees',\n",
       " 'deep learning',\n",
       " 'libsvm',\n",
       " 'machine learning',\n",
       " 'mathematics',\n",
       " 'neural networks',\n",
       " 'numpy',\n",
       " 'pandas',\n",
       " 'probability',\n",
       " 'programming languages',\n",
       " 'regression',\n",
       " 'scikit-learn',\n",
       " 'scipy',\n",
       " 'statistics',\n",
       " 'statsmodels',\n",
       " 'support vector machines',\n",
       " 'theory']"
      ]
     },
     "execution_count": 27,
     "metadata": {},
     "output_type": "execute_result"
    }
   ],
   "source": [
    "unique_interests = sorted(list({ interest for user_interests in users_interests\n",
    "                               for interest in user_interests}))\n",
    "unique_interests"
   ]
  },
  {
   "cell_type": "code",
   "execution_count": 28,
   "metadata": {
    "collapsed": true
   },
   "outputs": [],
   "source": [
    "def make_user_interest_vector(user_interests):\n",
    "    \"\"\"given a list of interests, produce a vector whose ith element is 1 \n",
    "    if unique_interests[i] is in the list, 0 otherwise\"\"\"\n",
    "    return [1 if interest in user_interests else 0 for interest in unique_interests]"
   ]
  },
  {
   "cell_type": "code",
   "execution_count": 29,
   "metadata": {
    "collapsed": true
   },
   "outputs": [],
   "source": [
    "user_interest_matrix = map(make_user_interest_vector, users_interests)"
   ]
  },
  {
   "cell_type": "code",
   "execution_count": 30,
   "metadata": {
    "collapsed": false
   },
   "outputs": [
    {
     "data": {
      "text/plain": [
       "[[0.33806170189140661,\n",
       "  0.0,\n",
       "  0.0,\n",
       "  0.0,\n",
       "  0.15430334996209191,\n",
       "  0.0,\n",
       "  0.0,\n",
       "  0.1889822365046136,\n",
       "  0.56694670951384085,\n",
       "  0.0,\n",
       "  0.0,\n",
       "  0.0,\n",
       "  0.1690308509457033,\n",
       "  0.0]]"
      ]
     },
     "execution_count": 30,
     "metadata": {},
     "output_type": "execute_result"
    }
   ],
   "source": [
    "user_similarities = [[cosine_similiarty(interest_vector_i, interest_vector_j)\n",
    "                     for interest_vector_j in user_interest_matrix]\n",
    "                    for interest_vector_i in user_interest_matrix]\n",
    "user_similarities"
   ]
  },
  {
   "cell_type": "code",
   "execution_count": 31,
   "metadata": {
    "collapsed": false
   },
   "outputs": [
    {
     "ename": "SyntaxError",
     "evalue": "invalid syntax (<ipython-input-31-a928826ec8d8>, line 7)",
     "output_type": "error",
     "traceback": [
      "\u001b[0;36m  File \u001b[0;32m\"<ipython-input-31-a928826ec8d8>\"\u001b[0;36m, line \u001b[0;32m7\u001b[0m\n\u001b[0;31m    return sorted(pairs, key=lambda (_, similarity): similarity, reverse=True)\u001b[0m\n\u001b[0m                                    ^\u001b[0m\n\u001b[0;31mSyntaxError\u001b[0m\u001b[0;31m:\u001b[0m invalid syntax\n"
     ]
    }
   ],
   "source": [
    "def most_similar_users_to(user_id):\n",
    "    pairs = [(other_user_id, similarity)\n",
    "            for other_user_id, similarity in\n",
    "                enumerate(user_similarities[user_id])\n",
    "            if user_id != other_user_id and similarity > 0]\n",
    "    \n",
    "    return sorted(pairs, key=lambda (_, similarity): similarity, reverse=True)"
   ]
  },
  {
   "cell_type": "code",
   "execution_count": 32,
   "metadata": {
    "collapsed": false
   },
   "outputs": [
    {
     "ename": "SyntaxError",
     "evalue": "invalid syntax (<ipython-input-32-3d8b99aa5ef4>, line 9)",
     "output_type": "error",
     "traceback": [
      "\u001b[0;36m  File \u001b[0;32m\"<ipython-input-32-3d8b99aa5ef4>\"\u001b[0;36m, line \u001b[0;32m9\u001b[0m\n\u001b[0;31m    suggestions = sorted(suggestions.items(), key=lambda(_, weight): weight, reverse=True)\u001b[0m\n\u001b[0m                                                        ^\u001b[0m\n\u001b[0;31mSyntaxError\u001b[0m\u001b[0;31m:\u001b[0m invalid syntax\n"
     ]
    }
   ],
   "source": [
    "def user_based_suggestions(user_id, include_current_interests=False):\n",
    "    # sum up the similarities\n",
    "    suggestions = defaultdict(float)\n",
    "    for other_user_id, similarity in most_similar_users_to(user_id):\n",
    "        for interest in users_interests[other_user_id]:\n",
    "            suggestions[interest] += similarity\n",
    "    \n",
    "    # convert them to a sorted list\n",
    "    suggestions = sorted(suggestions.items(), key=lambda(_, weight): weight, reverse=True)\n",
    "    \n",
    "    # and (maybe) exclude already-interests\n",
    "    if include_current_interests:\n",
    "        return suggestions\n",
    "    else:\n",
    "        return [(suggestion, weight)\n",
    "               for suggestion, weight in suggestions \n",
    "                   if suggestion not in users_interests[user_id]]"
   ]
  },
  {
   "cell_type": "code",
   "execution_count": null,
   "metadata": {
    "collapsed": false
   },
   "outputs": [],
   "source": [
    "user_based_suggestions(0)"
   ]
  },
  {
   "cell_type": "markdown",
   "metadata": {
    "collapsed": true
   },
   "source": [
    "# Movie Data"
   ]
  },
  {
   "cell_type": "code",
   "execution_count": null,
   "metadata": {
    "collapsed": false
   },
   "outputs": [],
   "source": [
    "movie_data = [['Superman', 'Walking Dead', 'CSI'], \n",
    "              ['Superman', 'Walking Dead', 'CSI']]"
   ]
  },
  {
   "cell_type": "code",
   "execution_count": null,
   "metadata": {
    "collapsed": false
   },
   "outputs": [],
   "source": [
    "unique_movies = sorted(list({ movie for movie_data in movie_data\n",
    "                               for movie in movie_data}))\n",
    "unique_movies"
   ]
  },
  {
   "cell_type": "code",
   "execution_count": null,
   "metadata": {
    "collapsed": false
   },
   "outputs": [],
   "source": [
    "def make_user_movie_vector(movie_data):\n",
    "    \"\"\"given a list of interests, produce a vector whose ith element is 1 \n",
    "    if unique_interests[i] is in the list, 0 otherwise\"\"\"\n",
    "    return [1 if interest in movie_data else 0 for interest in unique_movies]"
   ]
  },
  {
   "cell_type": "code",
   "execution_count": null,
   "metadata": {
    "collapsed": false
   },
   "outputs": [],
   "source": [
    "mapped_movie_data = map(make_user_movie_vector, movie_data)"
   ]
  },
  {
   "cell_type": "code",
   "execution_count": null,
   "metadata": {
    "collapsed": false
   },
   "outputs": [],
   "source": [
    "user_similarities = [[cosine_similiarty(interest_vector_i, interest_vector_j)\n",
    "                     for interest_vector_j in mapped_movie_data]\n",
    "                    for interest_vector_i in mapped_movie_data]\n",
    "user_similarities"
   ]
  },
  {
   "cell_type": "code",
   "execution_count": null,
   "metadata": {
    "collapsed": true
   },
   "outputs": [],
   "source": []
  }
 ],
 "metadata": {
  "kernelspec": {
   "display_name": "Python 3",
   "language": "python",
   "name": "python3"
  },
  "language_info": {
   "codemirror_mode": {
    "name": "ipython",
    "version": 3
   },
   "file_extension": ".py",
   "mimetype": "text/x-python",
   "name": "python",
   "nbconvert_exporter": "python",
   "pygments_lexer": "ipython3",
   "version": "3.4.3"
  }
 },
 "nbformat": 4,
 "nbformat_minor": 0
}
