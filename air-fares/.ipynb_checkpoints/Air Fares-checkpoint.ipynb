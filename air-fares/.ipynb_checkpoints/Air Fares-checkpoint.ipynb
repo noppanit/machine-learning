{
 "cells": [
  {
   "cell_type": "markdown",
   "metadata": {},
   "source": [
    "#Introduction\n"
   ]
  },
  {
   "cell_type": "code",
   "execution_count": null,
   "metadata": {
    "collapsed": true
   },
   "outputs": [],
   "source": [
    "%matplotlib inline \n",
    "import numpy as np\n",
    "import pandas as pd\n",
    "import matplotlib.pyplot as plt"
   ]
  },
  {
   "cell_type": "code",
   "execution_count": 8,
   "metadata": {
    "collapsed": false
   },
   "outputs": [],
   "source": [
    "df = pd.read_excel('2011_Current_Table1.xlsx')"
   ]
  },
  {
   "cell_type": "code",
   "execution_count": 9,
   "metadata": {
    "collapsed": false
   },
   "outputs": [
    {
     "data": {
      "text/plain": [
       "(15003, 16)"
      ]
     },
     "execution_count": 9,
     "metadata": {},
     "output_type": "execute_result"
    }
   ],
   "source": [
    "df.shape"
   ]
  },
  {
   "cell_type": "code",
   "execution_count": 10,
   "metadata": {
    "collapsed": false
   },
   "outputs": [
    {
     "data": {
      "text/html": [
       "<div>\n",
       "<table border=\"1\" class=\"dataframe\">\n",
       "  <thead>\n",
       "    <tr style=\"text-align: right;\">\n",
       "      <th></th>\n",
       "      <th>tbl</th>\n",
       "      <th>Year</th>\n",
       "      <th>quarter</th>\n",
       "      <th>citymarketid_1</th>\n",
       "      <th>citymarketid_2</th>\n",
       "      <th>city1</th>\n",
       "      <th>city2</th>\n",
       "      <th>nsmiles</th>\n",
       "      <th>passengers</th>\n",
       "      <th>fare</th>\n",
       "      <th>carrier_lg</th>\n",
       "      <th>large_ms</th>\n",
       "      <th>fare_lg</th>\n",
       "      <th>carrier_low</th>\n",
       "      <th>lf_ms</th>\n",
       "      <th>fare_low</th>\n",
       "    </tr>\n",
       "  </thead>\n",
       "  <tbody>\n",
       "    <tr>\n",
       "      <th>0</th>\n",
       "      <td>Table 1</td>\n",
       "      <td>2011</td>\n",
       "      <td>1</td>\n",
       "      <td>30135</td>\n",
       "      <td>31454</td>\n",
       "      <td>Allentown/Bethlehem/Easton, PA</td>\n",
       "      <td>Orlando, FL</td>\n",
       "      <td>906</td>\n",
       "      <td>291.777778</td>\n",
       "      <td>119.161005</td>\n",
       "      <td>FL</td>\n",
       "      <td>0.687738</td>\n",
       "      <td>112.950000</td>\n",
       "      <td>G4</td>\n",
       "      <td>0.119573</td>\n",
       "      <td>84.792994</td>\n",
       "    </tr>\n",
       "    <tr>\n",
       "      <th>1</th>\n",
       "      <td>Table 1</td>\n",
       "      <td>2011</td>\n",
       "      <td>1</td>\n",
       "      <td>30140</td>\n",
       "      <td>30194</td>\n",
       "      <td>Albuquerque, NM</td>\n",
       "      <td>Dallas/Fort Worth, TX</td>\n",
       "      <td>580</td>\n",
       "      <td>532.333333</td>\n",
       "      <td>189.705197</td>\n",
       "      <td>WN</td>\n",
       "      <td>0.612607</td>\n",
       "      <td>189.172266</td>\n",
       "      <td>WN</td>\n",
       "      <td>0.612607</td>\n",
       "      <td>189.172266</td>\n",
       "    </tr>\n",
       "    <tr>\n",
       "      <th>2</th>\n",
       "      <td>Table 1</td>\n",
       "      <td>2011</td>\n",
       "      <td>1</td>\n",
       "      <td>30140</td>\n",
       "      <td>30325</td>\n",
       "      <td>Albuquerque, NM</td>\n",
       "      <td>Denver, CO</td>\n",
       "      <td>349</td>\n",
       "      <td>521.777778</td>\n",
       "      <td>114.180473</td>\n",
       "      <td>WN</td>\n",
       "      <td>0.449744</td>\n",
       "      <td>111.501610</td>\n",
       "      <td>F9</td>\n",
       "      <td>0.319208</td>\n",
       "      <td>104.576584</td>\n",
       "    </tr>\n",
       "    <tr>\n",
       "      <th>3</th>\n",
       "      <td>Table 1</td>\n",
       "      <td>2011</td>\n",
       "      <td>1</td>\n",
       "      <td>30140</td>\n",
       "      <td>30423</td>\n",
       "      <td>Albuquerque, NM</td>\n",
       "      <td>Austin, TX</td>\n",
       "      <td>619</td>\n",
       "      <td>151.777778</td>\n",
       "      <td>201.043704</td>\n",
       "      <td>WN</td>\n",
       "      <td>0.718887</td>\n",
       "      <td>202.160998</td>\n",
       "      <td>AA</td>\n",
       "      <td>0.180088</td>\n",
       "      <td>201.397967</td>\n",
       "    </tr>\n",
       "    <tr>\n",
       "      <th>4</th>\n",
       "      <td>Table 1</td>\n",
       "      <td>2011</td>\n",
       "      <td>1</td>\n",
       "      <td>30140</td>\n",
       "      <td>30436</td>\n",
       "      <td>Albuquerque, NM</td>\n",
       "      <td>Tucson, AZ</td>\n",
       "      <td>321</td>\n",
       "      <td>155.666667</td>\n",
       "      <td>115.909707</td>\n",
       "      <td>WN</td>\n",
       "      <td>0.927909</td>\n",
       "      <td>114.270308</td>\n",
       "      <td>WN</td>\n",
       "      <td>0.927909</td>\n",
       "      <td>114.270308</td>\n",
       "    </tr>\n",
       "  </tbody>\n",
       "</table>\n",
       "</div>"
      ],
      "text/plain": [
       "       tbl  Year  quarter  citymarketid_1  citymarketid_2  \\\n",
       "0  Table 1  2011        1           30135           31454   \n",
       "1  Table 1  2011        1           30140           30194   \n",
       "2  Table 1  2011        1           30140           30325   \n",
       "3  Table 1  2011        1           30140           30423   \n",
       "4  Table 1  2011        1           30140           30436   \n",
       "\n",
       "                            city1                  city2  nsmiles  passengers  \\\n",
       "0  Allentown/Bethlehem/Easton, PA            Orlando, FL      906  291.777778   \n",
       "1                 Albuquerque, NM  Dallas/Fort Worth, TX      580  532.333333   \n",
       "2                 Albuquerque, NM             Denver, CO      349  521.777778   \n",
       "3                 Albuquerque, NM             Austin, TX      619  151.777778   \n",
       "4                 Albuquerque, NM             Tucson, AZ      321  155.666667   \n",
       "\n",
       "         fare carrier_lg  large_ms     fare_lg carrier_low     lf_ms  \\\n",
       "0  119.161005         FL  0.687738  112.950000          G4  0.119573   \n",
       "1  189.705197         WN  0.612607  189.172266          WN  0.612607   \n",
       "2  114.180473         WN  0.449744  111.501610          F9  0.319208   \n",
       "3  201.043704         WN  0.718887  202.160998          AA  0.180088   \n",
       "4  115.909707         WN  0.927909  114.270308          WN  0.927909   \n",
       "\n",
       "     fare_low  \n",
       "0   84.792994  \n",
       "1  189.172266  \n",
       "2  104.576584  \n",
       "3  201.397967  \n",
       "4  114.270308  "
      ]
     },
     "execution_count": 10,
     "metadata": {},
     "output_type": "execute_result"
    }
   ],
   "source": [
    "df.head()"
   ]
  },
  {
   "cell_type": "code",
   "execution_count": 22,
   "metadata": {
    "collapsed": false
   },
   "outputs": [],
   "source": [
    "airports = pd.concat([df['citymarketid_1'], df['citymarketid_2']])"
   ]
  },
  {
   "cell_type": "code",
   "execution_count": 23,
   "metadata": {
    "collapsed": false
   },
   "outputs": [
    {
     "data": {
      "text/plain": [
       "141"
      ]
     },
     "execution_count": 23,
     "metadata": {},
     "output_type": "execute_result"
    }
   ],
   "source": [
    "len(np.unique(airports))"
   ]
  },
  {
   "cell_type": "code",
   "execution_count": 47,
   "metadata": {
    "collapsed": false
   },
   "outputs": [],
   "source": [
    "from_nyc = df[df['city1'].str.contains('NY')]"
   ]
  },
  {
   "cell_type": "code",
   "execution_count": 55,
   "metadata": {
    "collapsed": false
   },
   "outputs": [],
   "source": [
    "from_nyc_to_or = from_nyc[from_nyc['city2'].str.contains('OR')]"
   ]
  },
  {
   "cell_type": "code",
   "execution_count": 1,
   "metadata": {
    "collapsed": false
   },
   "outputs": [
    {
     "ename": "NameError",
     "evalue": "name 'plt' is not defined",
     "output_type": "error",
     "traceback": [
      "\u001b[0;31m---------------------------------------------------------------------------\u001b[0m",
      "\u001b[0;31mNameError\u001b[0m                                 Traceback (most recent call last)",
      "\u001b[0;32m<ipython-input-1-a7d60ef7e6cb>\u001b[0m in \u001b[0;36m<module>\u001b[0;34m()\u001b[0m\n\u001b[0;32m----> 1\u001b[0;31m \u001b[0mplt\u001b[0m\u001b[0;34m.\u001b[0m\u001b[0mfigure\u001b[0m\u001b[0;34m(\u001b[0m\u001b[0;34m)\u001b[0m\u001b[0;34m;\u001b[0m\u001b[0;34m\u001b[0m\u001b[0m\n\u001b[0m\u001b[1;32m      2\u001b[0m \u001b[0mdf\u001b[0m\u001b[0;34m.\u001b[0m\u001b[0mfare\u001b[0m\u001b[0;34m.\u001b[0m\u001b[0mplot\u001b[0m\u001b[0;34m(\u001b[0m\u001b[0mkind\u001b[0m\u001b[0;34m=\u001b[0m\u001b[0;34m'bar'\u001b[0m\u001b[0;34m)\u001b[0m\u001b[0;34m;\u001b[0m \u001b[0mplt\u001b[0m\u001b[0;34m.\u001b[0m\u001b[0maxhline\u001b[0m\u001b[0;34m(\u001b[0m\u001b[0;36m0\u001b[0m\u001b[0;34m,\u001b[0m \u001b[0mcolor\u001b[0m\u001b[0;34m=\u001b[0m\u001b[0;34m'k'\u001b[0m\u001b[0;34m)\u001b[0m\u001b[0;34m\u001b[0m\u001b[0m\n",
      "\u001b[0;31mNameError\u001b[0m: name 'plt' is not defined"
     ]
    }
   ],
   "source": [
    "plt.figure();\n",
    "df.fare.plot(kind='bar'); plt.axhline(0, color='k')"
   ]
  },
  {
   "cell_type": "code",
   "execution_count": null,
   "metadata": {
    "collapsed": true
   },
   "outputs": [],
   "source": []
  }
 ],
 "metadata": {
  "kernelspec": {
   "display_name": "Python 3",
   "language": "python",
   "name": "python3"
  },
  "language_info": {
   "codemirror_mode": {
    "name": "ipython",
    "version": 3
   },
   "file_extension": ".py",
   "mimetype": "text/x-python",
   "name": "python",
   "nbconvert_exporter": "python",
   "pygments_lexer": "ipython3",
   "version": "3.4.3"
  }
 },
 "nbformat": 4,
 "nbformat_minor": 0
}
