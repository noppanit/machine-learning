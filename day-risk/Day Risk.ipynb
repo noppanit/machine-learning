{
 "cells": [
  {
   "cell_type": "code",
   "execution_count": 1,
   "metadata": {
    "collapsed": false
   },
   "outputs": [],
   "source": [
    "%matplotlib inline  \n",
    "import matplotlib.pyplot as plt\n",
    "import numpy as np\n",
    "import theano\n",
    "import theano.tensor as T\n"
   ]
  },
  {
   "cell_type": "markdown",
   "metadata": {},
   "source": [
    "#Getting the data"
   ]
  },
  {
   "cell_type": "code",
   "execution_count": 38,
   "metadata": {
    "collapsed": true
   },
   "outputs": [],
   "source": [
    "import pandas.io.data as web\n",
    "import datetime\n",
    "start = datetime.datetime(2013, 1, 1)\n",
    "end = datetime.datetime(2013, 1, 27)\n",
    "f = web.DataReader(\"F\", 'yahoo', start, end)"
   ]
  },
  {
   "cell_type": "code",
   "execution_count": 39,
   "metadata": {
    "collapsed": false
   },
   "outputs": [
    {
     "data": {
      "text/html": [
       "<div>\n",
       "<table border=\"1\" class=\"dataframe\">\n",
       "  <thead>\n",
       "    <tr style=\"text-align: right;\">\n",
       "      <th></th>\n",
       "      <th>Open</th>\n",
       "      <th>High</th>\n",
       "      <th>Low</th>\n",
       "      <th>Close</th>\n",
       "      <th>Volume</th>\n",
       "      <th>Adj Close</th>\n",
       "    </tr>\n",
       "    <tr>\n",
       "      <th>Date</th>\n",
       "      <th></th>\n",
       "      <th></th>\n",
       "      <th></th>\n",
       "      <th></th>\n",
       "      <th></th>\n",
       "      <th></th>\n",
       "    </tr>\n",
       "  </thead>\n",
       "  <tbody>\n",
       "    <tr>\n",
       "      <th>2013-01-02</th>\n",
       "      <td>13.23</td>\n",
       "      <td>13.28</td>\n",
       "      <td>13.00</td>\n",
       "      <td>13.20</td>\n",
       "      <td>75274700</td>\n",
       "      <td>12.215207</td>\n",
       "    </tr>\n",
       "    <tr>\n",
       "      <th>2013-01-03</th>\n",
       "      <td>13.24</td>\n",
       "      <td>13.70</td>\n",
       "      <td>13.05</td>\n",
       "      <td>13.46</td>\n",
       "      <td>121284700</td>\n",
       "      <td>12.455810</td>\n",
       "    </tr>\n",
       "    <tr>\n",
       "      <th>2013-01-04</th>\n",
       "      <td>13.51</td>\n",
       "      <td>13.61</td>\n",
       "      <td>13.35</td>\n",
       "      <td>13.57</td>\n",
       "      <td>54669900</td>\n",
       "      <td>12.557603</td>\n",
       "    </tr>\n",
       "    <tr>\n",
       "      <th>2013-01-07</th>\n",
       "      <td>13.52</td>\n",
       "      <td>13.58</td>\n",
       "      <td>13.35</td>\n",
       "      <td>13.43</td>\n",
       "      <td>43482400</td>\n",
       "      <td>12.428048</td>\n",
       "    </tr>\n",
       "    <tr>\n",
       "      <th>2013-01-08</th>\n",
       "      <td>13.38</td>\n",
       "      <td>13.43</td>\n",
       "      <td>13.20</td>\n",
       "      <td>13.35</td>\n",
       "      <td>46336200</td>\n",
       "      <td>12.354017</td>\n",
       "    </tr>\n",
       "    <tr>\n",
       "      <th>2013-01-09</th>\n",
       "      <td>13.40</td>\n",
       "      <td>13.60</td>\n",
       "      <td>13.39</td>\n",
       "      <td>13.47</td>\n",
       "      <td>36973900</td>\n",
       "      <td>12.465064</td>\n",
       "    </tr>\n",
       "    <tr>\n",
       "      <th>2013-01-10</th>\n",
       "      <td>13.78</td>\n",
       "      <td>13.94</td>\n",
       "      <td>13.68</td>\n",
       "      <td>13.83</td>\n",
       "      <td>84884300</td>\n",
       "      <td>12.798206</td>\n",
       "    </tr>\n",
       "    <tr>\n",
       "      <th>2013-01-11</th>\n",
       "      <td>14.00</td>\n",
       "      <td>14.07</td>\n",
       "      <td>13.90</td>\n",
       "      <td>14.00</td>\n",
       "      <td>67641200</td>\n",
       "      <td>12.955523</td>\n",
       "    </tr>\n",
       "    <tr>\n",
       "      <th>2013-01-14</th>\n",
       "      <td>14.04</td>\n",
       "      <td>14.08</td>\n",
       "      <td>13.86</td>\n",
       "      <td>13.99</td>\n",
       "      <td>46224800</td>\n",
       "      <td>12.946268</td>\n",
       "    </tr>\n",
       "    <tr>\n",
       "      <th>2013-01-15</th>\n",
       "      <td>13.91</td>\n",
       "      <td>14.30</td>\n",
       "      <td>13.89</td>\n",
       "      <td>14.30</td>\n",
       "      <td>55425000</td>\n",
       "      <td>13.233141</td>\n",
       "    </tr>\n",
       "    <tr>\n",
       "      <th>2013-01-16</th>\n",
       "      <td>14.16</td>\n",
       "      <td>14.25</td>\n",
       "      <td>14.01</td>\n",
       "      <td>14.22</td>\n",
       "      <td>51453400</td>\n",
       "      <td>13.159110</td>\n",
       "    </tr>\n",
       "    <tr>\n",
       "      <th>2013-01-17</th>\n",
       "      <td>14.27</td>\n",
       "      <td>14.30</td>\n",
       "      <td>14.07</td>\n",
       "      <td>14.22</td>\n",
       "      <td>44299300</td>\n",
       "      <td>13.159110</td>\n",
       "    </tr>\n",
       "    <tr>\n",
       "      <th>2013-01-18</th>\n",
       "      <td>14.10</td>\n",
       "      <td>14.13</td>\n",
       "      <td>13.97</td>\n",
       "      <td>14.11</td>\n",
       "      <td>45716100</td>\n",
       "      <td>13.057316</td>\n",
       "    </tr>\n",
       "    <tr>\n",
       "      <th>2013-01-22</th>\n",
       "      <td>14.06</td>\n",
       "      <td>14.19</td>\n",
       "      <td>14.00</td>\n",
       "      <td>14.17</td>\n",
       "      <td>35467900</td>\n",
       "      <td>13.112840</td>\n",
       "    </tr>\n",
       "    <tr>\n",
       "      <th>2013-01-23</th>\n",
       "      <td>14.00</td>\n",
       "      <td>14.02</td>\n",
       "      <td>13.79</td>\n",
       "      <td>13.88</td>\n",
       "      <td>58122200</td>\n",
       "      <td>12.844475</td>\n",
       "    </tr>\n",
       "    <tr>\n",
       "      <th>2013-01-24</th>\n",
       "      <td>13.82</td>\n",
       "      <td>13.98</td>\n",
       "      <td>13.81</td>\n",
       "      <td>13.87</td>\n",
       "      <td>42532700</td>\n",
       "      <td>12.835221</td>\n",
       "    </tr>\n",
       "    <tr>\n",
       "      <th>2013-01-25</th>\n",
       "      <td>13.83</td>\n",
       "      <td>13.84</td>\n",
       "      <td>13.64</td>\n",
       "      <td>13.68</td>\n",
       "      <td>53405400</td>\n",
       "      <td>12.659397</td>\n",
       "    </tr>\n",
       "  </tbody>\n",
       "</table>\n",
       "</div>"
      ],
      "text/plain": [
       "             Open   High    Low  Close     Volume  Adj Close\n",
       "Date                                                        \n",
       "2013-01-02  13.23  13.28  13.00  13.20   75274700  12.215207\n",
       "2013-01-03  13.24  13.70  13.05  13.46  121284700  12.455810\n",
       "2013-01-04  13.51  13.61  13.35  13.57   54669900  12.557603\n",
       "2013-01-07  13.52  13.58  13.35  13.43   43482400  12.428048\n",
       "2013-01-08  13.38  13.43  13.20  13.35   46336200  12.354017\n",
       "2013-01-09  13.40  13.60  13.39  13.47   36973900  12.465064\n",
       "2013-01-10  13.78  13.94  13.68  13.83   84884300  12.798206\n",
       "2013-01-11  14.00  14.07  13.90  14.00   67641200  12.955523\n",
       "2013-01-14  14.04  14.08  13.86  13.99   46224800  12.946268\n",
       "2013-01-15  13.91  14.30  13.89  14.30   55425000  13.233141\n",
       "2013-01-16  14.16  14.25  14.01  14.22   51453400  13.159110\n",
       "2013-01-17  14.27  14.30  14.07  14.22   44299300  13.159110\n",
       "2013-01-18  14.10  14.13  13.97  14.11   45716100  13.057316\n",
       "2013-01-22  14.06  14.19  14.00  14.17   35467900  13.112840\n",
       "2013-01-23  14.00  14.02  13.79  13.88   58122200  12.844475\n",
       "2013-01-24  13.82  13.98  13.81  13.87   42532700  12.835221\n",
       "2013-01-25  13.83  13.84  13.64  13.68   53405400  12.659397"
      ]
     },
     "execution_count": 39,
     "metadata": {},
     "output_type": "execute_result"
    }
   ],
   "source": [
    "f"
   ]
  },
  {
   "cell_type": "markdown",
   "metadata": {},
   "source": [
    "#Explore data"
   ]
  },
  {
   "cell_type": "code",
   "execution_count": 3,
   "metadata": {
    "collapsed": false
   },
   "outputs": [
    {
     "data": {
      "text/plain": [
       "<matplotlib.axes._subplots.AxesSubplot at 0x113a174e0>"
      ]
     },
     "execution_count": 3,
     "metadata": {},
     "output_type": "execute_result"
    },
    {
     "data": {
      "image/png": "[encoded data removed]",
      "text/plain": [
       "<matplotlib.figure.Figure at 0x10ea81898>"
      ]
     },
     "metadata": {},
     "output_type": "display_data"
    }
   ],
   "source": [
    "f.Close.plot()"
   ]
  },
  {
   "cell_type": "code",
   "execution_count": 4,
   "metadata": {
    "collapsed": false
   },
   "outputs": [
    {
     "data": {
      "text/plain": [
       "<matplotlib.axes._subplots.AxesSubplot at 0x1144f7f60>"
      ]
     },
     "execution_count": 4,
     "metadata": {},
     "output_type": "execute_result"
    },
    {
     "data": {
      "image/png": "[encoded data removed]",
      "text/plain": [
       "<matplotlib.figure.Figure at 0x1144d7ba8>"
      ]
     },
     "metadata": {},
     "output_type": "display_data"
    }
   ],
   "source": [
    "f.Volume.plot()"
   ]
  },
  {
   "cell_type": "code",
   "execution_count": 5,
   "metadata": {
    "collapsed": false
   },
   "outputs": [
    {
     "data": {
      "text/plain": [
       "<matplotlib.axes._subplots.AxesSubplot at 0x1146024e0>"
      ]
     },
     "execution_count": 5,
     "metadata": {},
     "output_type": "execute_result"
    },
    {
     "data": {
      "image/png": "[encoded data removed]",
      "text/plain": [
       "<matplotlib.figure.Figure at 0x11463b160>"
      ]
     },
     "metadata": {},
     "output_type": "display_data"
    }
   ],
   "source": [
    "f.plot(kind='scatter', x='Close', y='Open')"
   ]
  },
  {
   "cell_type": "code",
   "execution_count": 6,
   "metadata": {
    "collapsed": false
   },
   "outputs": [
    {
     "data": {
      "image/png": "[encoded data removed]",
      "text/plain": [
       "<matplotlib.figure.Figure at 0x11466b2b0>"
      ]
     },
     "metadata": {},
     "output_type": "display_data"
    }
   ],
   "source": [
    "from pandas.tools.plotting import scatter_matrix\n",
    "scatter_matrix(f, alpha=0.2, figsize=(6, 6), diagonal='kde');"
   ]
  },
  {
   "cell_type": "code",
   "execution_count": 7,
   "metadata": {
    "collapsed": false,
    "scrolled": true
   },
   "outputs": [
    {
     "data": {
      "text/html": [
       "<div>\n",
       "<table border=\"1\" class=\"dataframe\">\n",
       "  <thead>\n",
       "    <tr style=\"text-align: right;\">\n",
       "      <th></th>\n",
       "      <th>Open</th>\n",
       "      <th>High</th>\n",
       "      <th>Low</th>\n",
       "      <th>Close</th>\n",
       "      <th>Volume</th>\n",
       "      <th>Adj Close</th>\n",
       "    </tr>\n",
       "  </thead>\n",
       "  <tbody>\n",
       "    <tr>\n",
       "      <th>count</th>\n",
       "      <td>17.000000</td>\n",
       "      <td>17.000000</td>\n",
       "      <td>17.000000</td>\n",
       "      <td>17.000000</td>\n",
       "      <td>1.700000e+01</td>\n",
       "      <td>17.000000</td>\n",
       "    </tr>\n",
       "    <tr>\n",
       "      <th>mean</th>\n",
       "      <td>13.779412</td>\n",
       "      <td>13.900000</td>\n",
       "      <td>13.644706</td>\n",
       "      <td>13.808824</td>\n",
       "      <td>5.665848e+07</td>\n",
       "      <td>12.778609</td>\n",
       "    </tr>\n",
       "    <tr>\n",
       "      <th>std</th>\n",
       "      <td>0.334449</td>\n",
       "      <td>0.315099</td>\n",
       "      <td>0.351196</td>\n",
       "      <td>0.345866</td>\n",
       "      <td>2.118857e+07</td>\n",
       "      <td>0.320063</td>\n",
       "    </tr>\n",
       "    <tr>\n",
       "      <th>min</th>\n",
       "      <td>13.230000</td>\n",
       "      <td>13.280000</td>\n",
       "      <td>13.000000</td>\n",
       "      <td>13.200000</td>\n",
       "      <td>3.546790e+07</td>\n",
       "      <td>12.215207</td>\n",
       "    </tr>\n",
       "    <tr>\n",
       "      <th>25%</th>\n",
       "      <td>13.510000</td>\n",
       "      <td>13.610000</td>\n",
       "      <td>13.350000</td>\n",
       "      <td>13.470000</td>\n",
       "      <td>4.429930e+07</td>\n",
       "      <td>12.465064</td>\n",
       "    </tr>\n",
       "    <tr>\n",
       "      <th>50%</th>\n",
       "      <td>13.830000</td>\n",
       "      <td>13.980000</td>\n",
       "      <td>13.790000</td>\n",
       "      <td>13.870000</td>\n",
       "      <td>5.145340e+07</td>\n",
       "      <td>12.835221</td>\n",
       "    </tr>\n",
       "    <tr>\n",
       "      <th>75%</th>\n",
       "      <td>14.040000</td>\n",
       "      <td>14.130000</td>\n",
       "      <td>13.900000</td>\n",
       "      <td>14.110000</td>\n",
       "      <td>5.812220e+07</td>\n",
       "      <td>13.057316</td>\n",
       "    </tr>\n",
       "    <tr>\n",
       "      <th>max</th>\n",
       "      <td>14.270000</td>\n",
       "      <td>14.300000</td>\n",
       "      <td>14.070000</td>\n",
       "      <td>14.300000</td>\n",
       "      <td>1.212847e+08</td>\n",
       "      <td>13.233141</td>\n",
       "    </tr>\n",
       "  </tbody>\n",
       "</table>\n",
       "</div>"
      ],
      "text/plain": [
       "            Open       High        Low      Close        Volume  Adj Close\n",
       "count  17.000000  17.000000  17.000000  17.000000  1.700000e+01  17.000000\n",
       "mean   13.779412  13.900000  13.644706  13.808824  5.665848e+07  12.778609\n",
       "std     0.334449   0.315099   0.351196   0.345866  2.118857e+07   0.320063\n",
       "min    13.230000  13.280000  13.000000  13.200000  3.546790e+07  12.215207\n",
       "25%    13.510000  13.610000  13.350000  13.470000  4.429930e+07  12.465064\n",
       "50%    13.830000  13.980000  13.790000  13.870000  5.145340e+07  12.835221\n",
       "75%    14.040000  14.130000  13.900000  14.110000  5.812220e+07  13.057316\n",
       "max    14.270000  14.300000  14.070000  14.300000  1.212847e+08  13.233141"
      ]
     },
     "execution_count": 7,
     "metadata": {},
     "output_type": "execute_result"
    }
   ],
   "source": [
    "f.describe()"
   ]
  },
  {
   "cell_type": "markdown",
   "metadata": {},
   "source": [
    "#Data Cleaning"
   ]
  },
  {
   "cell_type": "code",
   "execution_count": 8,
   "metadata": {
    "collapsed": false
   },
   "outputs": [
    {
     "data": {
      "text/plain": [
       "array([[ 13.22999954,  13.        ,  13.27999973],\n",
       "       [ 13.23999977,  13.05000019,  13.69999981],\n",
       "       [ 13.51000023,  13.35000038,  13.60999966],\n",
       "       [ 13.52000046,  13.35000038,  13.57999992],\n",
       "       [ 13.38000011,  13.19999981,  13.43000031],\n",
       "       [ 13.39999962,  13.39000034,  13.60000038],\n",
       "       [ 13.77999973,  13.68000031,  13.93999958],\n",
       "       [ 14.        ,  13.89999962,  14.06999969],\n",
       "       [ 14.03999996,  13.85999966,  14.07999992],\n",
       "       [ 13.90999985,  13.89000034,  14.30000019],\n",
       "       [ 14.15999985,  14.01000023,  14.25      ],\n",
       "       [ 14.27000046,  14.06999969,  14.30000019],\n",
       "       [ 14.10000038,  13.97000027,  14.13000011],\n",
       "       [ 14.06000042,  14.        ,  14.18999958],\n",
       "       [ 14.        ,  13.78999996,  14.02000046],\n",
       "       [ 13.81999969,  13.81000042,  13.97999954],\n",
       "       [ 13.82999992,  13.64000034,  13.84000015]], dtype=float32)"
      ]
     },
     "execution_count": 8,
     "metadata": {},
     "output_type": "execute_result"
    }
   ],
   "source": [
    "Xtr = f[['Open','Low','High']].values.astype(np.float32)\n",
    "Xtr"
   ]
  },
  {
   "cell_type": "code",
   "execution_count": 9,
   "metadata": {
    "collapsed": false
   },
   "outputs": [
    {
     "data": {
      "text/plain": [
       "array([ 13.19999981,  13.46000004,  13.56999969,  13.43000031,\n",
       "        13.35000038,  13.47000027,  13.82999992,  14.        ,\n",
       "        13.98999977,  14.30000019,  14.22000027,  14.22000027,\n",
       "        14.10999966,  14.17000008,  13.88000011,  13.86999989,  13.68000031], dtype=float32)"
      ]
     },
     "execution_count": 9,
     "metadata": {},
     "output_type": "execute_result"
    }
   ],
   "source": [
    "Ytr = f.Close.values.astype(np.float32)\n",
    "Ytr"
   ]
  },
  {
   "cell_type": "markdown",
   "metadata": {},
   "source": [
    "# Modeling"
   ]
  },
  {
   "cell_type": "code",
   "execution_count": 10,
   "metadata": {
    "collapsed": true
   },
   "outputs": [],
   "source": [
    "rng = np.random"
   ]
  },
  {
   "cell_type": "code",
   "execution_count": 11,
   "metadata": {
    "collapsed": false
   },
   "outputs": [],
   "source": [
    "def define_fit_model(dataset_x, dataset_y, learning_rate = 1e-4, training_steps = 10000):\n",
    "    N = len(dataset_x[0])\n",
    "    x = T.matrix(\"x\")\n",
    "    y = T.vector(\"y\")\n",
    "    w = theano.shared(rng.randn(N), name=\"w\")\n",
    "    b = theano.shared(0., name=\"b\")\n",
    "    Hx = T.dot(x,w) + b\n",
    "    cost = T.mean(T.sqr(Hx - y))\n",
    "    gw, gb = T.grad(cost=cost, wrt=[w, b])\n",
    "    train = theano.function(inputs=[x,y],outputs=[Hx,cost], updates=((w, w - learning_rate * gw), (b, b - learning_rate * gb)))\n",
    "    predict = theano.function(inputs=[x], outputs=Hx)\n",
    "    for i in range(training_steps):\n",
    "        pred, err = train(dataset_x, dataset_y)\n",
    "    return predict, w, b"
   ]
  },
  {
   "cell_type": "code",
   "execution_count": 12,
   "metadata": {
    "collapsed": false
   },
   "outputs": [],
   "source": [
    "predict, w, b = define_fit_model(Xtr,Ytr)"
   ]
  },
  {
   "cell_type": "code",
   "execution_count": 13,
   "metadata": {
    "collapsed": false
   },
   "outputs": [
    {
     "data": {
      "text/plain": [
       "'Model that was fit from data:\\n [-1.0897295   1.04515748  1.04634064], 0.019895761707419128'"
      ]
     },
     "execution_count": 13,
     "metadata": {},
     "output_type": "execute_result"
    }
   ],
   "source": [
    "\"Model that was fit from data:\\n {}, {}\".format( w.get_value(), b.get_value() )"
   ]
  },
  {
   "cell_type": "markdown",
   "metadata": {},
   "source": [
    "#Visualize, Summarize, Apply"
   ]
  },
  {
   "cell_type": "markdown",
   "metadata": {},
   "source": [
    "##predict"
   ]
  },
  {
   "cell_type": "code",
   "execution_count": 23,
   "metadata": {
    "collapsed": false
   },
   "outputs": [],
   "source": [
    "Ypredict = predict(Xtr)"
   ]
  },
  {
   "cell_type": "code",
   "execution_count": 24,
   "metadata": {
    "collapsed": false
   },
   "outputs": [
    {
     "data": {
      "image/png": "[encoded data removed]",
      "text/plain": [
       "<matplotlib.figure.Figure at 0x11aa40f60>"
      ]
     },
     "metadata": {},
     "output_type": "display_data"
    }
   ],
   "source": [
    "plt.plot(Ytr, label='real')\n",
    "plt.plot(Ypredict, label='predict')\n",
    "plt.legend();"
   ]
  },
  {
   "cell_type": "markdown",
   "metadata": {},
   "source": [
    "##testing"
   ]
  },
  {
   "cell_type": "code",
   "execution_count": 34,
   "metadata": {
    "collapsed": true
   },
   "outputs": [],
   "source": [
    "start = datetime.datetime(2015, 5, 1)\n",
    "end = datetime.datetime(2015, 5, 30)\n",
    "f = web.DataReader(\"F\", 'yahoo', start, end)"
   ]
  },
  {
   "cell_type": "code",
   "execution_count": 35,
   "metadata": {
    "collapsed": true
   },
   "outputs": [],
   "source": [
    "Xts = f[['Open','Low','High']].values.astype(np.float32)\n",
    "Yts = f.Close.values.astype(np.float32)"
   ]
  },
  {
   "cell_type": "code",
   "execution_count": 36,
   "metadata": {
    "collapsed": true
   },
   "outputs": [],
   "source": [
    "Ytest_predict = predict(Xts)"
   ]
  },
  {
   "cell_type": "code",
   "execution_count": 37,
   "metadata": {
    "collapsed": false
   },
   "outputs": [
    {
     "data": {
      "image/png": "[encoded data removed]",
      "text/plain": [
       "<matplotlib.figure.Figure at 0x11ac04e10>"
      ]
     },
     "metadata": {},
     "output_type": "display_data"
    }
   ],
   "source": [
    "plt.plot(Yts, label='test')\n",
    "plt.plot(Ytest_predict, label='predict')\n",
    "plt.legend();"
   ]
  },
  {
   "cell_type": "code",
   "execution_count": null,
   "metadata": {
    "collapsed": true
   },
   "outputs": [],
   "source": []
  }
 ],
 "metadata": {
  "kernelspec": {
   "display_name": "Python 3",
   "language": "python",
   "name": "python3"
  },
  "language_info": {
   "codemirror_mode": {
    "name": "ipython",
    "version": 3
   },
   "file_extension": ".py",
   "mimetype": "text/x-python",
   "name": "python",
   "nbconvert_exporter": "python",
   "pygments_lexer": "ipython3",
   "version": "3.4.3"
  }
 },
 "nbformat": 4,
 "nbformat_minor": 0
}
